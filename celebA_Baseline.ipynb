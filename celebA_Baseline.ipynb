{
 "cells": [
  {
   "cell_type": "code",
   "execution_count": 1,
   "id": "decb82e3",
   "metadata": {},
   "outputs": [
    {
     "name": "stderr",
     "output_type": "stream",
     "text": [
      "/home/shenyu/miniconda3/envs/DLcourse/lib/python3.7/site-packages/tqdm/auto.py:22: TqdmWarning: IProgress not found. Please update jupyter and ipywidgets. See https://ipywidgets.readthedocs.io/en/stable/user_install.html\n",
      "  from .autonotebook import tqdm as notebook_tqdm\n"
     ]
    },
    {
     "name": "stdout",
     "output_type": "stream",
     "text": [
      "Done\n"
     ]
    }
   ],
   "source": [
    "#step 1 import image\n",
    "%matplotlib inline\n",
    "import torchvision.datasets\n",
    "import math\n",
    "import torchvision.transforms as tvt\n",
    "import os\n",
    "import matplotlib.pyplot as plt\n",
    "import numpy as np\n",
    "import pandas as pd\n",
    "import wget\n",
    "import zipfile\n",
    "import torch\n",
    "import torch.nn as nn\n",
    "import torch.nn.functional as F\n",
    "import torch.optim as optim\n",
    "import torchvision.datasets as datasets\n",
    "import torchvision.models as models\n",
    "import torchvision.transforms as tfms\n",
    "from torch.utils.data import DataLoader, Subset, Dataset, random_split\n",
    "from torchvision.utils import make_grid\n",
    "from PIL import Image\n",
    "from time import time\n",
    "from tqdm import tqdm\n",
    "import random\n",
    "from transformers import ViTModel\n",
    "\n",
    "device = torch.device('cuda:1')\n",
    "\n",
    "def seed_everything(seed):\n",
    "    \"\"\"\n",
    "    Changes the seed for reproducibility. \n",
    "    \"\"\"\n",
    "    random.seed(seed)\n",
    "    np.random.seed(seed)\n",
    "    torch.manual_seed(seed)\n",
    "    torch.backends.cudnn.deterministic = True\n",
    "    torch.backends.cudnn.benchmark = False\n",
    "\n",
    "\n",
    "seed_everything(1024)\n",
    "image_size = 64\n",
    "batch_size = 1024\n",
    "dataset = torchvision.datasets.CelebA(\"../celeba/datasets/\",split='train', transform=tvt.Compose([\n",
    "                                  tvt.Resize((image_size,image_size)),\n",
    "                                  tvt.ToTensor(),\n",
    "                                  tvt.Normalize(mean=[0.5, 0.5, 0.5],\n",
    "                                                std=[0.5, 0.5, 0.5])                                  \n",
    "                              ]))\n",
    "\n",
    "test_dataset = torchvision.datasets.CelebA(\"../celeba/datasets/\",split='test', transform=tvt.Compose([\n",
    "                                  tvt.Resize((image_size,image_size)),\n",
    "                                  tvt.ToTensor(),\n",
    "                                  tvt.Normalize(mean=[0.5, 0.5, 0.5],\n",
    "                                                std=[0.5, 0.5, 0.5])                                  \n",
    "                              ]))\n",
    "\n",
    "lengths = [int(len(dataset)*0.9), int(len(dataset)*0.1)]\n",
    "if sum(lengths) != len(dataset):\n",
    "    lengths[0] += len(dataset) - sum(lengths)\n",
    "    \n",
    "train_dataset, val_dataset = random_split(dataset, lengths)\n",
    "\n",
    "training_data_loader = DataLoader(train_dataset, batch_size=batch_size, shuffle=True, drop_last=True)\n",
    "valid_data_loader = DataLoader(val_dataset, batch_size=batch_size, shuffle=False, drop_last=False)\n",
    "test_data_loader = DataLoader(test_dataset, batch_size=batch_size, shuffle=False, drop_last=False)\n",
    "print('Done')"
   ]
  },
  {
   "cell_type": "code",
   "execution_count": 2,
   "id": "3cb378d2",
   "metadata": {},
   "outputs": [
    {
     "data": {
      "text/plain": [
       "torch.Size([1024, 17, 768])"
      ]
     },
     "execution_count": 2,
     "metadata": {},
     "output_type": "execute_result"
    }
   ],
   "source": [
    "from transformers import ViTConfig, ViTModel\n",
    "configuration = ViTConfig(num_hidden_layers = 8, num_attention_heads = 8, \n",
    "                          intermediate_size = 768, image_size= 64, patch_size = 16)\n",
    "model = ViTModel(configuration)\n",
    "configuration = model.config\n",
    "t = iter(test_data_loader)\n",
    "img, label = next(t)\n",
    "img\n",
    "y = model(img)\n",
    "y.last_hidden_state.shape"
   ]
  },
  {
   "cell_type": "code",
   "execution_count": 3,
   "id": "c1e10554",
   "metadata": {},
   "outputs": [],
   "source": [
    "class VisionTransformer(nn.Module):\n",
    "    def __init__(self, vit):\n",
    "        super(VisionTransformer, self).__init__()\n",
    "        self.vit = vit\n",
    "        self.seq = nn.Sequential(\n",
    "            nn.Linear(768, 256),\n",
    "            nn.ReLU(),\n",
    "            nn.Linear(256, 1),     \n",
    "            nn.Sigmoid()\n",
    "        )\n",
    "    \n",
    "    def forward(self, x):\n",
    "        z = self.vit(x)\n",
    "        m = z.last_hidden_state\n",
    "        g = m[:,0]\n",
    "        y = self.seq(g)\n",
    "        return y "
   ]
  },
  {
   "cell_type": "code",
   "execution_count": 4,
   "id": "1384aa93",
   "metadata": {
    "scrolled": false
   },
   "outputs": [
    {
     "name": "stderr",
     "output_type": "stream",
     "text": [
      "epoch 0.000000 : 100%|██████████████████████████████████████████████| 143/143 [02:14<00:00,  1.06batch/s, ut_loss=0.482]\n"
     ]
    },
    {
     "name": "stdout",
     "output_type": "stream",
     "text": [
      "Female TPR 0.8585921843687375\n",
      "male TPR 0.47126436781609193\n",
      "DP 0.5390445560463946\n",
      "EOP 0.3873278165526456\n",
      "EoD 0.3838897920661666\n",
      "acc 0.7663059813645927\n",
      "Trade off 0.4721289375194795\n"
     ]
    },
    {
     "name": "stderr",
     "output_type": "stream",
     "text": [
      "epoch 1.000000 : 100%|████████████████████████████████████████████████| 143/143 [02:15<00:00,  1.06batch/s, ut_loss=0.5]\n"
     ]
    },
    {
     "name": "stdout",
     "output_type": "stream",
     "text": [
      "Female TPR 0.8959168336673347\n",
      "male TPR 0.6368861024033438\n",
      "DP 0.5040434466181383\n",
      "EOP 0.2590307312639909\n",
      "EoD 0.3186324999819459\n",
      "acc 0.7757739705440336\n",
      "Trade off 0.5285871708886678\n"
     ]
    },
    {
     "name": "stderr",
     "output_type": "stream",
     "text": [
      "epoch 2.000000 : 100%|██████████████████████████████████████████████| 143/143 [02:15<00:00,  1.05batch/s, ut_loss=0.449]\n"
     ]
    },
    {
     "name": "stdout",
     "output_type": "stream",
     "text": [
      "Female TPR 0.8879008016032064\n",
      "male TPR 0.6311389759665622\n",
      "DP 0.48747999232264\n",
      "EOP 0.2567618256366442\n",
      "EoD 0.29666434231754335\n",
      "acc 0.7830878669471997\n",
      "Trade off 0.5507736199224608\n"
     ]
    },
    {
     "name": "stderr",
     "output_type": "stream",
     "text": [
      "epoch 3.000000 : 100%|██████████████████████████████████████████████| 143/143 [02:15<00:00,  1.06batch/s, ut_loss=0.419]\n"
     ]
    },
    {
     "name": "stdout",
     "output_type": "stream",
     "text": [
      "Female TPR 0.8920340681362725\n",
      "male TPR 0.6175548589341693\n",
      "DP 0.4953233034809906\n",
      "EOP 0.2744792092021032\n",
      "EoD 0.3031782993580323\n",
      "acc 0.7886985272016832\n",
      "Trade off 0.5495822490184921\n"
     ]
    },
    {
     "name": "stderr",
     "output_type": "stream",
     "text": [
      "epoch 4.000000 : 100%|██████████████████████████████████████████████| 143/143 [02:15<00:00,  1.05batch/s, ut_loss=0.407]\n"
     ]
    },
    {
     "name": "stdout",
     "output_type": "stream",
     "text": [
      "Female TPR 0.905936873747495\n",
      "male TPR 0.6280041797283177\n",
      "DP 0.5055720710048901\n",
      "EOP 0.2779326940191773\n",
      "EoD 0.31403120737586215\n",
      "acc 0.7881474802124036\n",
      "Trade off 0.540644575411059\n"
     ]
    },
    {
     "name": "stderr",
     "output_type": "stream",
     "text": [
      "epoch 5.000000 : 100%|██████████████████████████████████████████████| 143/143 [02:15<00:00,  1.05batch/s, ut_loss=0.407]\n"
     ]
    },
    {
     "name": "stdout",
     "output_type": "stream",
     "text": [
      "Female TPR 0.9159569138276553\n",
      "male TPR 0.6462904911180773\n",
      "DP 0.508262427911638\n",
      "EOP 0.26966642270957797\n",
      "EoD 0.32289539804936707\n",
      "acc 0.7779280633203086\n",
      "Trade off 0.5267386716607243\n"
     ]
    },
    {
     "name": "stderr",
     "output_type": "stream",
     "text": [
      "epoch 6.000000 : 100%|██████████████████████████████████████████████| 143/143 [02:15<00:00,  1.05batch/s, ut_loss=0.372]\n"
     ]
    },
    {
     "name": "stdout",
     "output_type": "stream",
     "text": [
      "Female TPR 0.9157064128256514\n",
      "male TPR 0.6786833855799373\n",
      "DP 0.4876023707526665\n",
      "EOP 0.237023027245714\n",
      "EoD 0.30137443820051907\n",
      "acc 0.7721170223424506\n",
      "Trade off 0.539420688508937\n"
     ]
    },
    {
     "name": "stderr",
     "output_type": "stream",
     "text": [
      "epoch 7.000000 : 100%|██████████████████████████████████████████████| 143/143 [02:15<00:00,  1.05batch/s, ut_loss=0.351]\n"
     ]
    },
    {
     "name": "stdout",
     "output_type": "stream",
     "text": [
      "Female TPR 0.9019288577154309\n",
      "male TPR 0.696969696969697\n",
      "DP 0.45449293572285426\n",
      "EOP 0.20495916074573384\n",
      "EoD 0.265700910966818\n",
      "acc 0.7693617873960525\n",
      "Trade off 0.564941659621862\n"
     ]
    },
    {
     "name": "stderr",
     "output_type": "stream",
     "text": [
      "epoch 8.000000 : 100%|██████████████████████████████████████████████| 143/143 [02:22<00:00,  1.00batch/s, ut_loss=0.299]\n"
     ]
    },
    {
     "name": "stdout",
     "output_type": "stream",
     "text": [
      "Female TPR 0.874248496993988\n",
      "male TPR 0.6206896551724138\n",
      "DP 0.46427796064807964\n",
      "EOP 0.2535588418215742\n",
      "EoD 0.28269480883985026\n",
      "acc 0.7715659753531711\n",
      "Trade off 0.5534482794433738\n"
     ]
    },
    {
     "name": "stderr",
     "output_type": "stream",
     "text": [
      "epoch 9.000000 : 100%|██████████████████████████████████████████████| 143/143 [02:15<00:00,  1.06batch/s, ut_loss=0.273]\n"
     ]
    },
    {
     "name": "stdout",
     "output_type": "stream",
     "text": [
      "Female TPR 0.8498246492985972\n",
      "male TPR 0.5600835945663531\n",
      "DP 0.46540651351070883\n",
      "EOP 0.2897410547322441\n",
      "EoD 0.2931811412228495\n",
      "acc 0.7683598837791804\n",
      "Trade off 0.5430912561829443\n"
     ]
    },
    {
     "name": "stderr",
     "output_type": "stream",
     "text": [
      "epoch 10.000000 : 100%|█████████████████████████████████████████████| 143/143 [02:15<00:00,  1.06batch/s, ut_loss=0.206]\n"
     ]
    },
    {
     "name": "stdout",
     "output_type": "stream",
     "text": [
      "Female TPR 0.8284068136272545\n",
      "male TPR 0.5977011494252874\n",
      "DP 0.40723178943501503\n",
      "EOP 0.23070566420196714\n",
      "EoD 0.23606005726616272\n",
      "acc 0.7556357078449053\n",
      "Trade off 0.5772602993786795\n"
     ]
    },
    {
     "name": "stderr",
     "output_type": "stream",
     "text": [
      "epoch 11.000000 : 100%|█████████████████████████████████████████████| 143/143 [02:15<00:00,  1.05batch/s, ut_loss=0.178]\n"
     ]
    },
    {
     "name": "stdout",
     "output_type": "stream",
     "text": [
      "Female TPR 0.8369238476953907\n",
      "male TPR 0.5950888192267503\n",
      "DP 0.4210881964506657\n",
      "EOP 0.24183502846864047\n",
      "EoD 0.2523219737289765\n",
      "acc 0.7544835186855025\n",
      "Trade off 0.5641107481047933\n"
     ]
    },
    {
     "name": "stderr",
     "output_type": "stream",
     "text": [
      "epoch 12.000000 : 100%|█████████████████████████████████████████████| 143/143 [02:15<00:00,  1.05batch/s, ut_loss=0.135]\n"
     ]
    },
    {
     "name": "stdout",
     "output_type": "stream",
     "text": [
      "Female TPR 0.843687374749499\n",
      "male TPR 0.6394984326018809\n",
      "DP 0.4124225801380009\n",
      "EOP 0.20418894214761807\n",
      "EoD 0.23534341587342072\n",
      "acc 0.7564873259192466\n",
      "Trade off 0.5784530145724615\n"
     ]
    },
    {
     "name": "stderr",
     "output_type": "stream",
     "text": [
      "epoch 13.000000 : 100%|█████████████████████████████████████████████| 143/143 [02:15<00:00,  1.05batch/s, ut_loss=0.121]\n"
     ]
    },
    {
     "name": "stdout",
     "output_type": "stream",
     "text": [
      "Female TPR 0.8390531062124249\n",
      "male TPR 0.5867293625914316\n",
      "DP 0.44454433032418006\n",
      "EOP 0.2523237436209933\n",
      "EoD 0.27728702058425875\n",
      "acc 0.7539324716962228\n",
      "Trade off 0.5448767828978511\n"
     ]
    },
    {
     "name": "stderr",
     "output_type": "stream",
     "text": [
      "epoch 14.000000 : 100%|████████████████████████████████████████████| 143/143 [02:15<00:00,  1.05batch/s, ut_loss=0.0804]\n"
     ]
    },
    {
     "name": "stdout",
     "output_type": "stream",
     "text": [
      "Female TPR 0.8384268537074149\n",
      "male TPR 0.5726227795193313\n",
      "DP 0.4361363511404726\n",
      "EOP 0.2658040741880836\n",
      "EoD 0.27360878671695416\n",
      "acc 0.7514778078348863\n",
      "Trade off 0.5458668765884667\n"
     ]
    },
    {
     "name": "stderr",
     "output_type": "stream",
     "text": [
      "epoch 15.000000 : 100%|████████████████████████████████████████████| 143/143 [02:25<00:00,  1.02s/batch, ut_loss=0.0702]\n"
     ]
    },
    {
     "name": "stdout",
     "output_type": "stream",
     "text": [
      "Female TPR 0.813376753507014\n",
      "male TPR 0.5752351097178683\n",
      "DP 0.4185874557293675\n",
      "EOP 0.2381416437891457\n",
      "EoD 0.24635909104729037\n",
      "acc 0.7583909427913035\n",
      "Trade off 0.5715544394667403\n"
     ]
    },
    {
     "name": "stderr",
     "output_type": "stream",
     "text": [
      "epoch 16.000000 : 100%|████████████████████████████████████████████| 143/143 [02:15<00:00,  1.06batch/s, ut_loss=0.0701]\n"
     ]
    },
    {
     "name": "stdout",
     "output_type": "stream",
     "text": [
      "Female TPR 0.8309118236472945\n",
      "male TPR 0.6191222570532915\n",
      "DP 0.4140448907534645\n",
      "EOP 0.21178956659400305\n",
      "EoD 0.24107646773807134\n",
      "acc 0.753030758441038\n",
      "Trade off 0.5714927630979517\n"
     ]
    },
    {
     "name": "stderr",
     "output_type": "stream",
     "text": [
      "epoch 17.000000 : 100%|████████████████████████████████████████████| 143/143 [02:15<00:00,  1.05batch/s, ut_loss=0.0509]\n"
     ]
    },
    {
     "name": "stdout",
     "output_type": "stream",
     "text": [
      "Female TPR 0.8312875751503006\n",
      "male TPR 0.5893416927899686\n",
      "DP 0.42701355407524777\n",
      "EOP 0.241945882360332\n",
      "EoD 0.25541915259841297\n",
      "acc 0.757940086163711\n",
      "Trade off 0.5643476716354078\n"
     ]
    },
    {
     "name": "stderr",
     "output_type": "stream",
     "text": [
      "epoch 18.000000 : 100%|████████████████████████████████████████████| 143/143 [02:15<00:00,  1.05batch/s, ut_loss=0.0491]\n"
     ]
    },
    {
     "name": "stdout",
     "output_type": "stream",
     "text": [
      "Female TPR 0.8340430861723447\n",
      "male TPR 0.5841170323928945\n",
      "DP 0.4269975093031367\n",
      "EOP 0.2499260537794502\n",
      "EoD 0.2607436681382532\n",
      "acc 0.7529305680793508\n",
      "Trade off 0.5566086899049221\n"
     ]
    },
    {
     "name": "stderr",
     "output_type": "stream",
     "text": [
      "epoch 19.000000 : 100%|████████████████████████████████████████████| 143/143 [02:15<00:00,  1.05batch/s, ut_loss=0.0464]\n"
     ]
    },
    {
     "name": "stdout",
     "output_type": "stream",
     "text": [
      "Female TPR 0.8097444889779559\n",
      "male TPR 0.5626959247648903\n",
      "DP 0.41948451301126766\n",
      "EOP 0.24704856421306565\n",
      "EoD 0.2517339548384257\n",
      "acc 0.7547339945897205\n",
      "Trade off 0.5647418212806472\n"
     ]
    },
    {
     "name": "stderr",
     "output_type": "stream",
     "text": [
      "epoch 20.000000 : 100%|████████████████████████████████████████████| 143/143 [02:15<00:00,  1.05batch/s, ut_loss=0.0591]\n"
     ]
    },
    {
     "name": "stdout",
     "output_type": "stream",
     "text": [
      "Female TPR 0.8599699398797596\n",
      "male TPR 0.6233019853709509\n",
      "DP 0.4389973901315444\n",
      "EOP 0.23666795450880862\n",
      "EoD 0.2707363977807172\n",
      "acc 0.7515279030157299\n",
      "Trade off 0.5480619457215551\n"
     ]
    },
    {
     "name": "stderr",
     "output_type": "stream",
     "text": [
      "epoch 21.000000 : 100%|████████████████████████████████████████████| 143/143 [02:16<00:00,  1.05batch/s, ut_loss=0.0341]\n"
     ]
    },
    {
     "name": "stdout",
     "output_type": "stream",
     "text": [
      "Female TPR 0.8543336673346693\n",
      "male TPR 0.6269592476489029\n",
      "DP 0.43146369227354786\n",
      "EOP 0.22737441968576644\n",
      "EoD 0.25744952071626637\n",
      "acc 0.7571385632702134\n",
      "Trade off 0.5622136030404945\n"
     ]
    },
    {
     "name": "stderr",
     "output_type": "stream",
     "text": [
      "epoch 22.000000 : 100%|████████████████████████████████████████████| 143/143 [02:15<00:00,  1.05batch/s, ut_loss=0.0647]\n"
     ]
    },
    {
     "name": "stdout",
     "output_type": "stream",
     "text": [
      "Female TPR 0.8444388777555111\n",
      "male TPR 0.5684430512016719\n",
      "DP 0.45379225756135017\n",
      "EOP 0.27599582655383914\n",
      "EoD 0.29004717492678517\n",
      "acc 0.7546338042280333\n",
      "Trade off 0.5357544012074396\n"
     ]
    },
    {
     "name": "stderr",
     "output_type": "stream",
     "text": [
      "epoch 23.000000 : 100%|████████████████████████████████████████████| 143/143 [02:16<00:00,  1.05batch/s, ut_loss=0.0264]\n"
     ]
    },
    {
     "name": "stdout",
     "output_type": "stream",
     "text": [
      "Female TPR 0.8371743486973948\n",
      "male TPR 0.5982236154649948\n",
      "DP 0.42500126871177896\n",
      "EOP 0.23895073323240001\n",
      "EoD 0.25458337435573125\n",
      "acc 0.7557358982065925\n",
      "Trade off 0.5633381031193987\n"
     ]
    },
    {
     "name": "stderr",
     "output_type": "stream",
     "text": [
      "epoch 24.000000 : 100%|████████████████████████████████████████████| 143/143 [02:15<00:00,  1.05batch/s, ut_loss=0.0356]\n"
     ]
    },
    {
     "name": "stdout",
     "output_type": "stream",
     "text": [
      "Female TPR 0.8476953907815631\n",
      "male TPR 0.622257053291536\n",
      "DP 0.42744619140661694\n",
      "EOP 0.22543833749002706\n",
      "EoD 0.25295134659555685\n",
      "acc 0.7575393247169623\n",
      "Trade off 0.5659187324307179\n"
     ]
    },
    {
     "name": "stderr",
     "output_type": "stream",
     "text": [
      "epoch 25.000000 : 100%|████████████████████████████████████████████| 143/143 [02:16<00:00,  1.05batch/s, ut_loss=0.0438]\n"
     ]
    },
    {
     "name": "stdout",
     "output_type": "stream",
     "text": [
      "Female TPR 0.8484468937875751\n",
      "male TPR 0.6154649947753396\n",
      "DP 0.4312655774390184\n",
      "EOP 0.23298189901223554\n",
      "EoD 0.26178510495012847\n",
      "acc 0.7526800921751328\n",
      "Trade off 0.5556396552511932\n"
     ]
    },
    {
     "name": "stderr",
     "output_type": "stream",
     "text": [
      "epoch 26.000000 : 100%|████████████████████████████████████████████| 143/143 [02:15<00:00,  1.05batch/s, ut_loss=0.0188]\n"
     ]
    },
    {
     "name": "stdout",
     "output_type": "stream",
     "text": [
      "Female TPR 0.8405561122244489\n",
      "male TPR 0.5694879832810867\n",
      "DP 0.44768771920336436\n",
      "EOP 0.2710681289433622\n",
      "EoD 0.28292289059519116\n",
      "acc 0.7550846608556256\n",
      "Trade off 0.5414539259622625\n"
     ]
    },
    {
     "name": "stderr",
     "output_type": "stream",
     "text": [
      "epoch 27.000000 : 100%|████████████████████████████████████████████| 143/143 [02:15<00:00,  1.05batch/s, ut_loss=0.0253]\n"
     ]
    },
    {
     "name": "stdout",
     "output_type": "stream",
     "text": [
      "Female TPR 0.8525801603206413\n",
      "male TPR 0.6050156739811913\n",
      "DP 0.43857838450629594\n",
      "EOP 0.24756448633945005\n",
      "EoD 0.27048656744620225\n",
      "acc 0.75403266205791\n",
      "Trade off 0.5500769555555437\n"
     ]
    },
    {
     "name": "stderr",
     "output_type": "stream",
     "text": [
      "epoch 28.000000 : 100%|████████████████████████████████████████████| 143/143 [02:15<00:00,  1.05batch/s, ut_loss=0.0315]\n"
     ]
    },
    {
     "name": "stdout",
     "output_type": "stream",
     "text": [
      "Female TPR 0.8351703406813628\n",
      "male TPR 0.5606060606060606\n",
      "DP 0.4473086561704293\n",
      "EOP 0.2745642800753022\n",
      "EoD 0.2810049639192382\n",
      "acc 0.7579901813445546\n",
      "Trade off 0.5449911777846912\n"
     ]
    },
    {
     "name": "stderr",
     "output_type": "stream",
     "text": [
      "epoch 29.000000 : 100%|████████████████████████████████████████████| 143/143 [02:15<00:00,  1.05batch/s, ut_loss=0.0179]\n"
     ]
    },
    {
     "name": "stdout",
     "output_type": "stream",
     "text": [
      "Female TPR 0.810370741482966\n",
      "male TPR 0.5663531870428422\n",
      "DP 0.41320976883198235\n",
      "EOP 0.24401755444012374\n",
      "EoD 0.24562188508974858\n",
      "acc 0.7540827572387536\n",
      "Trade off 0.5688635288920957\n"
     ]
    }
   ],
   "source": [
    "import random\n",
    "import numpy as np\n",
    "import torch\n",
    "from torch.utils.tensorboard import SummaryWriter\n",
    "from torch.utils.data import DataLoader\n",
    "from sklearn.metrics import accuracy_score, precision_score\n",
    "from sklearn.metrics import confusion_matrix\n",
    "from collections import OrderedDict\n",
    "import seaborn as sns\n",
    "\n",
    "def seed_everything(seed):\n",
    "    \"\"\"\n",
    "    Changes the seed for reproducibility. \n",
    "    \"\"\"\n",
    "    random.seed(seed)\n",
    "    np.random.seed(seed)\n",
    "    torch.manual_seed(seed)\n",
    "    torch.backends.cudnn.deterministic = True\n",
    "    torch.backends.cudnn.benchmark = False\n",
    "\n",
    "def train_model():\n",
    "    epoch = 30\n",
    "    configuration = ViTConfig(num_hidden_layers = 8, num_attention_heads = 8, \n",
    "                          intermediate_size = 768, image_size= 64, patch_size = 16)\n",
    "    vit = ViTModel(configuration)\n",
    "    configuration = vit.config\n",
    "    vit = vit.to(device)\n",
    "    model = VisionTransformer(vit)\n",
    "    model = model.to(device)\n",
    "    \n",
    "    criterion = nn.BCELoss()\n",
    "    optimizer = optim.AdamW(model.parameters(), lr=1e-4)\n",
    "    \n",
    "    valid_acc = []\n",
    "    valid_eod = []\n",
    "\n",
    "    for epoches in range(epoch):\n",
    "        with tqdm(training_data_loader, unit=\"batch\") as tepoch:\n",
    "            for train_input, attributes in tepoch:\n",
    "                # Transfer data to GPU if possible. \n",
    "                train_input = train_input.to(device)\n",
    "                sensitive, train_target = attributes[:,20], attributes[:,2]\n",
    "               \n",
    "                train_target = train_target.float().to(device)\n",
    "                train_target = train_target.unsqueeze(1)\n",
    "                optimizer.zero_grad()\n",
    "\n",
    "                # Learner update step.\n",
    "                outputs = model(train_input)\n",
    "                loss = criterion(outputs, train_target)\n",
    "                loss.backward()\n",
    "                #logger_learner.add_values(logging_dict)\n",
    "                optimizer.step()\n",
    "                tepoch.set_description(f\"epoch %2f \" % epoches)\n",
    "                tepoch.set_postfix(ut_loss = loss.item())\n",
    "        # Reset the dataloader if out of data.\n",
    "        #model.load_state_dict(torch.load(PATH), False)\n",
    "        test_pred = []\n",
    "        test_gt = []\n",
    "        sense_gt = []\n",
    "        female_predic = []\n",
    "        female_gt = []\n",
    "        male_predic = []\n",
    "        male_gt = []\n",
    "        \n",
    "        \n",
    "        \n",
    "        \n",
    "\n",
    "\n",
    "\n",
    "    # Evaluate on valdi set.\n",
    "        for step, (test_input, attributes) in enumerate(test_data_loader):\n",
    "            sensitive, test_target = attributes[:,20], attributes[:,2]\n",
    "            test_input = test_input.to(device)\n",
    "            test_target = test_target.to(device)\n",
    "\n",
    "            gt = test_target.detach().cpu().numpy()\n",
    "            sen = sensitive.detach().cpu().numpy()\n",
    "            test_gt.extend(gt)\n",
    "            sense_gt.extend(sen)\n",
    "\n",
    "            # Todo: split according to sensitive attribute\n",
    "            # Todo: combine all batch togather\n",
    "\n",
    "            with torch.no_grad():\n",
    "                test_pred_ = model(test_input)\n",
    "                test_pred.extend(torch.round(test_pred_.squeeze(1)).detach().cpu().numpy())\n",
    "\n",
    "        for i in range(len(sense_gt)):\n",
    "            if sense_gt[i] == 0:\n",
    "                female_predic.append(test_pred[i])\n",
    "                female_gt.append(test_gt[i])\n",
    "            else:\n",
    "                male_predic.append(test_pred[i])\n",
    "                male_gt.append(test_gt[i])\n",
    "        female_CM = confusion_matrix(female_gt, female_predic)    \n",
    "        male_CM = confusion_matrix(male_gt, male_predic) \n",
    "        female_dp = (female_CM[1][1]+female_CM[0][1])/(female_CM[0][0]+female_CM[0][1]+female_CM[1][0]+female_CM[1][1])\n",
    "        male_dp = (male_CM[1][1]+male_CM[0][1])/(male_CM[0][0]+male_CM[0][1]+male_CM[1][0]+male_CM[1][1])\n",
    "        female_TPR = female_CM[1][1]/(female_CM[1][1]+female_CM[1][0])\n",
    "        male_TPR = male_CM[1][1]/(male_CM[1][1]+male_CM[1][0])\n",
    "        female_FPR = female_CM[0][1]/(female_CM[0][1]+female_CM[0][0])\n",
    "        male_FPR = male_CM[0][1]/(male_CM[0][1]+male_CM[0][0])\n",
    "        \n",
    "        valid_acc.append(accuracy_score(test_gt, test_pred))\n",
    "        valid_eod.append(0.5*(abs(female_FPR-male_FPR)+ abs(female_TPR-male_TPR)))\n",
    "\n",
    "        print('Female TPR', female_TPR)\n",
    "        print('male TPR', male_TPR)\n",
    "        print('DP',abs(female_dp - male_dp))\n",
    "        print('EOP', abs(female_TPR - male_TPR))\n",
    "        print('EoD',0.5*(abs(female_FPR-male_FPR)+ abs(female_TPR-male_TPR)))\n",
    "        print('acc', accuracy_score(test_gt, test_pred))\n",
    "        print('Trade off',accuracy_score(test_gt, test_pred)*(1-0.5*(abs(female_FPR-male_FPR)+ abs(female_TPR-male_TPR))) )\n",
    "        \n",
    "    return valid_acc,  valid_eod\n",
    "\n",
    "\n",
    "seed_everything(1024)    \n",
    "va, ve = train_model()"
   ]
  },
  {
   "cell_type": "code",
   "execution_count": 10,
   "id": "10da0724",
   "metadata": {},
   "outputs": [
    {
     "data": {
      "image/png": "[encoded data removed]",
      "text/plain": [
       "<Figure size 640x480 with 1 Axes>"
      ]
     },
     "metadata": {},
     "output_type": "display_data"
    }
   ],
   "source": [
    "import matplotlib.pyplot as plt\n",
    "\n",
    "# Sample data\n",
    "\n",
    "# Create a basic plot\n",
    "x = list(range(1, 31)) \n",
    "plt.plot(x, ve, marker='o')  # 'o' specifies marker style\n",
    "plt.plot(x, va, marker='o')  # 'o' specifies marker style\n",
    "#plt.xlabel('X-axis')\n",
    "#plt.ylabel('Y-axis')\n",
    "plt.grid(True)\n",
    "plt.show()\n"
   ]
  }
 ],
 "metadata": {
  "kernelspec": {
   "display_name": "Python [conda env:DLcourse]",
   "language": "python",
   "name": "conda-env-DLcourse-py"
  },
  "language_info": {
   "codemirror_mode": {
    "name": "ipython",
    "version": 3
   },
   "file_extension": ".py",
   "mimetype": "text/x-python",
   "name": "python",
   "nbconvert_exporter": "python",
   "pygments_lexer": "ipython3",
   "version": "3.7.13"
  }
 },
 "nbformat": 4,
 "nbformat_minor": 5
}
