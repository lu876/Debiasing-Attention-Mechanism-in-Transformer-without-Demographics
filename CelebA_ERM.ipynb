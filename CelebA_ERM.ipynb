{
 "cells": [
  {
   "cell_type": "code",
   "execution_count": 1,
   "id": "decb82e3",
   "metadata": {},
   "outputs": [
    {
     "name": "stderr",
     "output_type": "stream",
     "text": [
      "/home/shenyu/miniconda3/envs/DLcourse/lib/python3.7/site-packages/tqdm/auto.py:22: TqdmWarning: IProgress not found. Please update jupyter and ipywidgets. See https://ipywidgets.readthedocs.io/en/stable/user_install.html\n",
      "  from .autonotebook import tqdm as notebook_tqdm\n"
     ]
    },
    {
     "name": "stdout",
     "output_type": "stream",
     "text": [
      "Done\n"
     ]
    }
   ],
   "source": [
    "#step 1 import image\n",
    "%matplotlib inline\n",
    "import torchvision.datasets\n",
    "import math\n",
    "import torchvision.transforms as tvt\n",
    "import os\n",
    "import matplotlib.pyplot as plt\n",
    "import numpy as np\n",
    "import pandas as pd\n",
    "import wget\n",
    "import zipfile\n",
    "import torch\n",
    "import torch.nn as nn\n",
    "import torch.nn.functional as F\n",
    "import torch.optim as optim\n",
    "import torchvision.datasets as datasets\n",
    "import torchvision.models as models\n",
    "import torchvision.transforms as tfms\n",
    "from torch.utils.data import DataLoader, Subset, Dataset, random_split\n",
    "from torchvision.utils import make_grid\n",
    "from PIL import Image\n",
    "from time import time\n",
    "from tqdm import tqdm\n",
    "import random\n",
    "from transformers import ViTModel\n",
    "\n",
    "device = torch.device('cuda:1')\n",
    "\n",
    "def seed_everything(seed):\n",
    "    \"\"\"\n",
    "    Changes the seed for reproducibility. \n",
    "    \"\"\"\n",
    "    random.seed(seed)\n",
    "    np.random.seed(seed)\n",
    "    torch.manual_seed(seed)\n",
    "    torch.backends.cudnn.deterministic = True\n",
    "    torch.backends.cudnn.benchmark = False\n",
    "\n",
    "\n",
    "seed_everything(1024)\n",
    "image_size = 64\n",
    "batch_size = 256\n",
    "dataset = torchvision.datasets.CelebA(\"../celeba/datasets/\",split='train', transform=tvt.Compose([\n",
    "                                  tvt.Resize((image_size,image_size)),\n",
    "                                  tvt.ToTensor(),\n",
    "                                  tvt.Normalize(mean=[0.5, 0.5, 0.5],\n",
    "                                                std=[0.5, 0.5, 0.5])                                  \n",
    "                              ]))\n",
    "\n",
    "test_dataset = torchvision.datasets.CelebA(\"../celeba/datasets/\",split='test', transform=tvt.Compose([\n",
    "                                  tvt.Resize((image_size,image_size)),\n",
    "                                  tvt.ToTensor(),\n",
    "                                  tvt.Normalize(mean=[0.5, 0.5, 0.5],\n",
    "                                                std=[0.5, 0.5, 0.5])                                  \n",
    "                              ]))\n",
    "\n",
    "\n",
    "training_data_loader = DataLoader(dataset, batch_size=batch_size, shuffle=True, drop_last=True)\n",
    "test_data_loader = DataLoader(test_dataset, batch_size=batch_size, shuffle=False, drop_last=False)\n",
    "print('Done')"
   ]
  },
  {
   "cell_type": "code",
   "execution_count": 2,
   "id": "3cb378d2",
   "metadata": {},
   "outputs": [
    {
     "data": {
      "text/plain": [
       "torch.Size([256, 17, 768])"
      ]
     },
     "execution_count": 2,
     "metadata": {},
     "output_type": "execute_result"
    }
   ],
   "source": [
    "from transformers import ViTConfig, ViTModel\n",
    "configuration = ViTConfig(num_hidden_layers = 8, num_attention_heads = 8, \n",
    "                          intermediate_size = 768, image_size= 64, patch_size = 16)\n",
    "model = ViTModel(configuration)\n",
    "configuration = model.config\n",
    "t = iter(test_data_loader)\n",
    "img, label = next(t)\n",
    "img\n",
    "y = model(img)\n",
    "y.last_hidden_state.shape"
   ]
  },
  {
   "cell_type": "code",
   "execution_count": 3,
   "id": "c1e10554",
   "metadata": {},
   "outputs": [],
   "source": [
    "class VisionTransformer(nn.Module):\n",
    "    def __init__(self, vit):\n",
    "        super(VisionTransformer, self).__init__()\n",
    "        self.vit = vit\n",
    "        self.seq = nn.Sequential(\n",
    "            nn.Linear(768, 256),\n",
    "            nn.ReLU(),\n",
    "            nn.Linear(256, 1),     \n",
    "            nn.Sigmoid()\n",
    "        )\n",
    "    \n",
    "    def forward(self, x):\n",
    "        z = self.vit(x)\n",
    "        m = z.last_hidden_state\n",
    "        g = m[:,0]\n",
    "        y = self.seq(g)\n",
    "        return y "
   ]
  },
  {
   "cell_type": "code",
   "execution_count": 4,
   "id": "1384aa93",
   "metadata": {
    "scrolled": false
   },
   "outputs": [
    {
     "name": "stderr",
     "output_type": "stream",
     "text": [
      "epoch 0.000000 : 100%|██████████████████████████████████████████████| 635/635 [02:51<00:00,  3.70batch/s, ut_loss=0.164]\n"
     ]
    },
    {
     "name": "stdout",
     "output_type": "stream",
     "text": [
      "Female TPR 0.6016129032258064\n",
      "male TPR 0.1388888888888889\n",
      "DP 0.13369441831906564\n",
      "EOP 0.4627240143369175\n",
      "EoD 0.24159508282121442\n",
      "acc 0.9268610359683398\n",
      "Trade off 0.7029359672198121\n"
     ]
    },
    {
     "name": "stderr",
     "output_type": "stream",
     "text": [
      "epoch 1.000000 : 100%|██████████████████████████████████████████████| 635/635 [02:53<00:00,  3.66batch/s, ut_loss=0.142]\n"
     ]
    },
    {
     "name": "stdout",
     "output_type": "stream",
     "text": [
      "Female TPR 0.825\n",
      "male TPR 0.39444444444444443\n",
      "DP 0.19000377888250808\n",
      "EOP 0.4305555555555555\n",
      "EoD 0.23719066388336102\n",
      "acc 0.9377817853922452\n",
      "Trade off 0.7153487011373351\n"
     ]
    },
    {
     "name": "stderr",
     "output_type": "stream",
     "text": [
      "epoch 2.000000 : 100%|██████████████████████████████████████████████| 635/635 [02:50<00:00,  3.72batch/s, ut_loss=0.147]\n"
     ]
    },
    {
     "name": "stdout",
     "output_type": "stream",
     "text": [
      "Female TPR 0.7407258064516129\n",
      "male TPR 0.25\n",
      "DP 0.16693217977489797\n",
      "EOP 0.4907258064516129\n",
      "EoD 0.26017482933235714\n",
      "acc 0.9423905420298567\n",
      "Trade off 0.6972042435928112\n"
     ]
    },
    {
     "name": "stderr",
     "output_type": "stream",
     "text": [
      "epoch 3.000000 : 100%|███████████████████████████████████████████████| 635/635 [02:40<00:00,  3.97batch/s, ut_loss=0.15]\n"
     ]
    },
    {
     "name": "stdout",
     "output_type": "stream",
     "text": [
      "Female TPR 0.805241935483871\n",
      "male TPR 0.3055555555555556\n",
      "DP 0.18661672325641562\n",
      "EOP 0.49968637992831544\n",
      "EoD 0.2697971959411115\n",
      "acc 0.9444945396252881\n",
      "Trade off 0.6896725612526943\n"
     ]
    },
    {
     "name": "stderr",
     "output_type": "stream",
     "text": [
      "epoch 4.000000 : 100%|██████████████████████████████████████████████| 635/635 [02:40<00:00,  3.96batch/s, ut_loss=0.171]\n"
     ]
    },
    {
     "name": "stdout",
     "output_type": "stream",
     "text": [
      "Female TPR 0.728225806451613\n",
      "male TPR 0.24444444444444444\n",
      "DP 0.16017329835587124\n",
      "EOP 0.4837813620071685\n",
      "EoD 0.25377698150670036\n",
      "acc 0.9451457769762549\n",
      "Trade off 0.705289534611416\n"
     ]
    },
    {
     "name": "stderr",
     "output_type": "stream",
     "text": [
      "epoch 5.000000 : 100%|█████████████████████████████████████████████| 635/635 [02:46<00:00,  3.82batch/s, ut_loss=0.0886]\n"
     ]
    },
    {
     "name": "stdout",
     "output_type": "stream",
     "text": [
      "Female TPR 0.7254032258064517\n",
      "male TPR 0.2388888888888889\n",
      "DP 0.1616236356850337\n",
      "EOP 0.48651433691756274\n",
      "EoD 0.25630003880432217\n",
      "acc 0.9438433022743212\n",
      "Trade off 0.7019362272762131\n"
     ]
    },
    {
     "name": "stderr",
     "output_type": "stream",
     "text": [
      "epoch 6.000000 : 100%|█████████████████████████████████████████████| 635/635 [02:51<00:00,  3.70batch/s, ut_loss=0.0607]\n"
     ]
    },
    {
     "name": "stdout",
     "output_type": "stream",
     "text": [
      "Female TPR 0.7967741935483871\n",
      "male TPR 0.3333333333333333\n",
      "DP 0.1783852048150615\n",
      "EOP 0.46344086021505376\n",
      "EoD 0.24814406972277178\n",
      "acc 0.9459973950505961\n",
      "Trade off 0.7112537514956004\n"
     ]
    },
    {
     "name": "stderr",
     "output_type": "stream",
     "text": [
      "epoch 7.000000 : 100%|█████████████████████████████████████████████| 635/635 [02:51<00:00,  3.69batch/s, ut_loss=0.0793]\n"
     ]
    },
    {
     "name": "stdout",
     "output_type": "stream",
     "text": [
      "Female TPR 0.7741935483870968\n",
      "male TPR 0.2833333333333333\n",
      "DP 0.17460865070398818\n",
      "EOP 0.4908602150537634\n",
      "EoD 0.26145743272421856\n",
      "acc 0.9443943492636009\n",
      "Trade off 0.6974754272258809\n"
     ]
    },
    {
     "name": "stderr",
     "output_type": "stream",
     "text": [
      "epoch 8.000000 : 100%|█████████████████████████████████████████████| 635/635 [02:50<00:00,  3.72batch/s, ut_loss=0.0757]\n"
     ]
    },
    {
     "name": "stdout",
     "output_type": "stream",
     "text": [
      "Female TPR 0.8129032258064516\n",
      "male TPR 0.3333333333333333\n",
      "DP 0.19144962875561838\n",
      "EOP 0.47956989247311826\n",
      "EoD 0.2623517208983895\n",
      "acc 0.9419897805831079\n",
      "Trade off 0.6948571405784333\n"
     ]
    },
    {
     "name": "stderr",
     "output_type": "stream",
     "text": [
      "epoch 9.000000 : 100%|█████████████████████████████████████████████| 635/635 [02:47<00:00,  3.79batch/s, ut_loss=0.0613]\n"
     ]
    },
    {
     "name": "stdout",
     "output_type": "stream",
     "text": [
      "Female TPR 0.7483870967741936\n",
      "male TPR 0.25555555555555554\n",
      "DP 0.17114555174833246\n",
      "EOP 0.49283154121863804\n",
      "EoD 0.26320152364509913\n",
      "acc 0.9397354974451457\n",
      "Trade off 0.6923956826941983\n"
     ]
    },
    {
     "name": "stderr",
     "output_type": "stream",
     "text": [
      "epoch 10.000000 : 100%|████████████████████████████████████████████| 635/635 [02:42<00:00,  3.90batch/s, ut_loss=0.0452]\n"
     ]
    },
    {
     "name": "stdout",
     "output_type": "stream",
     "text": [
      "Female TPR 0.7971774193548387\n",
      "male TPR 0.3\n",
      "DP 0.18302625040078857\n",
      "EOP 0.49717741935483867\n",
      "EoD 0.26775600439279457\n",
      "acc 0.9401863540727382\n",
      "Trade off 0.6884458125215926\n"
     ]
    },
    {
     "name": "stderr",
     "output_type": "stream",
     "text": [
      "epoch 11.000000 : 100%|████████████████████████████████████████████| 635/635 [03:00<00:00,  3.52batch/s, ut_loss=0.0214]\n"
     ]
    },
    {
     "name": "stdout",
     "output_type": "stream",
     "text": [
      "Female TPR 0.7709677419354839\n",
      "male TPR 0.32222222222222224\n",
      "DP 0.17809340375182017\n",
      "EOP 0.44874551971326165\n",
      "EoD 0.24402541795148852\n",
      "acc 0.9372307384029657\n",
      "Trade off 0.7085226157471998\n"
     ]
    },
    {
     "name": "stderr",
     "output_type": "stream",
     "text": [
      "epoch 12.000000 : 100%|████████████████████████████████████████████| 635/635 [02:52<00:00,  3.68batch/s, ut_loss=0.0313]\n"
     ]
    },
    {
     "name": "stdout",
     "output_type": "stream",
     "text": [
      "Female TPR 0.744758064516129\n",
      "male TPR 0.3277777777777778\n",
      "DP 0.17046088660807113\n",
      "EOP 0.41698028673835125\n",
      "EoD 0.22666197437059293\n",
      "acc 0.9362789299669372\n",
      "Trade off 0.7240600991390451\n"
     ]
    },
    {
     "name": "stderr",
     "output_type": "stream",
     "text": [
      "epoch 13.000000 : 100%|███████████████████████████████████████████| 635/635 [02:53<00:00,  3.66batch/s, ut_loss=0.00795]\n"
     ]
    },
    {
     "name": "stdout",
     "output_type": "stream",
     "text": [
      "Female TPR 0.7935483870967742\n",
      "male TPR 0.31666666666666665\n",
      "DP 0.1843715135231446\n",
      "EOP 0.47688172043010757\n",
      "EoD 0.259200831650359\n",
      "acc 0.9379821661156197\n",
      "Trade off 0.6948564085852459\n"
     ]
    },
    {
     "name": "stderr",
     "output_type": "stream",
     "text": [
      "epoch 14.000000 : 100%|████████████████████████████████████████████| 635/635 [02:58<00:00,  3.55batch/s, ut_loss=0.0291]\n"
     ]
    },
    {
     "name": "stdout",
     "output_type": "stream",
     "text": [
      "Female TPR 0.7366935483870968\n",
      "male TPR 0.26666666666666666\n",
      "DP 0.1686674176452593\n",
      "EOP 0.4700268817204301\n",
      "EoD 0.25192244385494245\n",
      "acc 0.9380322612964633\n",
      "Trade off 0.7017208816158803\n"
     ]
    },
    {
     "name": "stderr",
     "output_type": "stream",
     "text": [
      "epoch 15.000000 : 100%|███████████████████████████████████████████| 635/635 [02:58<00:00,  3.56batch/s, ut_loss=0.00399]\n"
     ]
    },
    {
     "name": "stdout",
     "output_type": "stream",
     "text": [
      "Female TPR 0.7879032258064517\n",
      "male TPR 0.32222222222222224\n",
      "DP 0.18260370984553678\n",
      "EOP 0.4656810035842294\n",
      "EoD 0.2532155591419695\n",
      "acc 0.9382827372006813\n",
      "Trade off 0.7006949492671531\n"
     ]
    },
    {
     "name": "stderr",
     "output_type": "stream",
     "text": [
      "epoch 16.000000 : 100%|████████████████████████████████████████████| 635/635 [02:54<00:00,  3.64batch/s, ut_loss=0.0111]\n"
     ]
    },
    {
     "name": "stdout",
     "output_type": "stream",
     "text": [
      "Female TPR 0.7600806451612904\n",
      "male TPR 0.34444444444444444\n",
      "DP 0.17112950697622142\n",
      "EOP 0.4156362007168459\n",
      "EoD 0.22488649059954816\n",
      "acc 0.9380322612964633\n",
      "Trade off 0.7270814779843433\n"
     ]
    },
    {
     "name": "stderr",
     "output_type": "stream",
     "text": [
      "epoch 17.000000 : 100%|████████████████████████████████████████████| 635/635 [03:13<00:00,  3.29batch/s, ut_loss=0.0257]\n"
     ]
    },
    {
     "name": "stdout",
     "output_type": "stream",
     "text": [
      "Female TPR 0.8241935483870968\n",
      "male TPR 0.3888888888888889\n",
      "DP 0.19273088212749445\n",
      "EOP 0.4353046594982079\n",
      "EoD 0.24107249878518955\n",
      "acc 0.9378819757539325\n",
      "Trade off 0.7117844242933414\n"
     ]
    },
    {
     "name": "stderr",
     "output_type": "stream",
     "text": [
      "epoch 18.000000 : 100%|███████████████████████████████████████████| 635/635 [03:17<00:00,  3.22batch/s, ut_loss=0.00657]\n"
     ]
    },
    {
     "name": "stdout",
     "output_type": "stream",
     "text": [
      "Female TPR 0.7846774193548387\n",
      "male TPR 0.34444444444444444\n",
      "DP 0.18064917931149407\n",
      "EOP 0.44023297491039426\n",
      "EoD 0.24001564546794935\n",
      "acc 0.938433022743212\n",
      "Trade off 0.7131944150610612\n"
     ]
    },
    {
     "name": "stderr",
     "output_type": "stream",
     "text": [
      "epoch 19.000000 : 100%|████████████████████████████████████████████| 635/635 [03:21<00:00,  3.16batch/s, ut_loss=0.0087]\n"
     ]
    },
    {
     "name": "stdout",
     "output_type": "stream",
     "text": [
      "Female TPR 0.7923387096774194\n",
      "male TPR 0.3277777777777778\n",
      "DP 0.1836794715978164\n",
      "EOP 0.4645609318996416\n",
      "EoD 0.25280340150961145\n",
      "acc 0.9390842600941789\n",
      "Trade off 0.7016805648382338\n"
     ]
    },
    {
     "name": "stderr",
     "output_type": "stream",
     "text": [
      "epoch 20.000000 : 100%|████████████████████████████████████████████| 635/635 [03:20<00:00,  3.17batch/s, ut_loss=0.0184]\n"
     ]
    },
    {
     "name": "stdout",
     "output_type": "stream",
     "text": [
      "Female TPR 0.7967741935483871\n",
      "male TPR 0.3611111111111111\n",
      "DP 0.18435210315899445\n",
      "EOP 0.435663082437276\n",
      "EoD 0.2386559333645291\n",
      "acc 0.9399859733493638\n",
      "Trade off 0.7156527435301061\n"
     ]
    },
    {
     "name": "stderr",
     "output_type": "stream",
     "text": [
      "epoch 21.000000 : 100%|████████████████████████████████████████████| 635/635 [03:14<00:00,  3.26batch/s, ut_loss=0.0149]\n"
     ]
    },
    {
     "name": "stdout",
     "output_type": "stream",
     "text": [
      "Female TPR 0.7681451612903226\n",
      "male TPR 0.28888888888888886\n",
      "DP 0.17473024594593006\n",
      "EOP 0.47925627240143376\n",
      "EoD 0.25690882536236376\n",
      "acc 0.9399358781685202\n",
      "Trade off 0.6984580557923039\n"
     ]
    },
    {
     "name": "stderr",
     "output_type": "stream",
     "text": [
      "epoch 22.000000 : 100%|████████████████████████████████████████████| 635/635 [03:21<00:00,  3.15batch/s, ut_loss=0.0458]\n"
     ]
    },
    {
     "name": "stdout",
     "output_type": "stream",
     "text": [
      "Female TPR 0.7649193548387097\n",
      "male TPR 0.28888888888888886\n",
      "DP 0.1765357484878252\n",
      "EOP 0.4760304659498208\n",
      "EoD 0.25673308419024493\n",
      "acc 0.9389339745516482\n",
      "Trade off 0.6978785594139987\n"
     ]
    },
    {
     "name": "stderr",
     "output_type": "stream",
     "text": [
      "epoch 23.000000 : 100%|███████████████████████████████████████████| 635/635 [02:51<00:00,  3.70batch/s, ut_loss=0.00185]\n"
     ]
    },
    {
     "name": "stdout",
     "output_type": "stream",
     "text": [
      "Female TPR 0.8068548387096774\n",
      "male TPR 0.3888888888888889\n",
      "DP 0.18177113857714092\n",
      "EOP 0.41796594982078855\n",
      "EoD 0.22794184328540326\n",
      "acc 0.9384831179240557\n",
      "Trade off 0.724563546132214\n"
     ]
    },
    {
     "name": "stderr",
     "output_type": "stream",
     "text": [
      "epoch 24.000000 : 100%|████████████████████████████████████████████| 635/635 [02:41<00:00,  3.93batch/s, ut_loss=0.0196]\n"
     ]
    },
    {
     "name": "stdout",
     "output_type": "stream",
     "text": [
      "Female TPR 0.777016129032258\n",
      "male TPR 0.3277777777777778\n",
      "DP 0.17497632575882854\n",
      "EOP 0.44923835125448025\n",
      "EoD 0.2416458371186903\n",
      "acc 0.9404869251577999\n",
      "Trade off 0.7132221748288603\n"
     ]
    },
    {
     "name": "stderr",
     "output_type": "stream",
     "text": [
      "epoch 25.000000 : 100%|██████████████████████████████████████████| 635/635 [02:40<00:00,  3.96batch/s, ut_loss=0.000406]\n"
     ]
    },
    {
     "name": "stdout",
     "output_type": "stream",
     "text": [
      "Female TPR 0.7870967741935484\n",
      "male TPR 0.35\n",
      "DP 0.1789692832045686\n",
      "EOP 0.4370967741935484\n",
      "EoD 0.2374218616823555\n",
      "acc 0.9378318805730889\n",
      "Trade off 0.7151700895423616\n"
     ]
    },
    {
     "name": "stderr",
     "output_type": "stream",
     "text": [
      "epoch 26.000000 : 100%|████████████████████████████████████████████| 635/635 [02:40<00:00,  3.95batch/s, ut_loss=0.0141]\n"
     ]
    },
    {
     "name": "stdout",
     "output_type": "stream",
     "text": [
      "Female TPR 0.7883064516129032\n",
      "male TPR 0.37222222222222223\n",
      "DP 0.1783171838715538\n",
      "EOP 0.416084229390681\n",
      "EoD 0.22687203294517344\n",
      "acc 0.9367297865945297\n",
      "Trade off 0.7242119955895302\n"
     ]
    },
    {
     "name": "stderr",
     "output_type": "stream",
     "text": [
      "epoch 27.000000 : 100%|███████████████████████████████████████████| 635/635 [02:39<00:00,  3.97batch/s, ut_loss=0.00828]\n"
     ]
    },
    {
     "name": "stdout",
     "output_type": "stream",
     "text": [
      "Female TPR 0.7673387096774194\n",
      "male TPR 0.3333333333333333\n",
      "DP 0.17313713554567386\n",
      "EOP 0.43400537634408604\n",
      "EoD 0.23426068537277903\n",
      "acc 0.9385332131048993\n",
      "Trade off 0.7186717793578292\n"
     ]
    },
    {
     "name": "stderr",
     "output_type": "stream",
     "text": [
      "epoch 28.000000 : 100%|███████████████████████████████████████████| 635/635 [02:40<00:00,  3.96batch/s, ut_loss=0.00448]\n"
     ]
    },
    {
     "name": "stdout",
     "output_type": "stream",
     "text": [
      "Female TPR 0.8129032258064516\n",
      "male TPR 0.40555555555555556\n",
      "DP 0.18600793210775335\n",
      "EOP 0.407347670250896\n",
      "EoD 0.2248245295164369\n",
      "acc 0.9367798817753732\n",
      "Trade off 0.7261687855947616\n"
     ]
    },
    {
     "name": "stderr",
     "output_type": "stream",
     "text": [
      "epoch 29.000000 : 100%|███████████████████████████████████████████| 635/635 [02:41<00:00,  3.93batch/s, ut_loss=0.00961]\n"
     ]
    },
    {
     "name": "stdout",
     "output_type": "stream",
     "text": [
      "Female TPR 0.7721774193548387\n",
      "male TPR 0.35555555555555557\n",
      "DP 0.17738820638339564\n",
      "EOP 0.4166218637992832\n",
      "EoD 0.2279598261183482\n",
      "acc 0.9368800721370604\n",
      "Trade off 0.7233090537989506\n"
     ]
    }
   ],
   "source": [
    "import random\n",
    "import numpy as np\n",
    "import torch\n",
    "from torch.utils.tensorboard import SummaryWriter\n",
    "from torch.utils.data import DataLoader\n",
    "from sklearn.metrics import accuracy_score, precision_score\n",
    "from sklearn.metrics import confusion_matrix\n",
    "from collections import OrderedDict\n",
    "import seaborn as sns\n",
    "\n",
    "def seed_everything(seed):\n",
    "    \"\"\"\n",
    "    Changes the seed for reproducibility. \n",
    "    \"\"\"\n",
    "    random.seed(seed)\n",
    "    np.random.seed(seed)\n",
    "    torch.manual_seed(seed)\n",
    "    torch.backends.cudnn.deterministic = True\n",
    "    torch.backends.cudnn.benchmark = False\n",
    "\n",
    "def train_model():\n",
    "    epoch = 30\n",
    "    configuration = ViTConfig(num_hidden_layers = 8, num_attention_heads = 8, \n",
    "                          intermediate_size = 768, image_size= 64, patch_size = 16)\n",
    "    vit = ViTModel(configuration)\n",
    "    configuration = vit.config\n",
    "    vit = vit.to(device)\n",
    "    model = VisionTransformer(vit)\n",
    "    model = model.to(device)\n",
    "    \n",
    "    criterion = nn.BCELoss()\n",
    "    optimizer = optim.AdamW(model.parameters(), lr=1e-5)\n",
    "    \n",
    "    valid_acc = []\n",
    "    valid_eod = []\n",
    "\n",
    "    for epoches in range(epoch):\n",
    "        with tqdm(training_data_loader, unit=\"batch\") as tepoch:\n",
    "            for train_input, attributes in tepoch:\n",
    "                # Transfer data to GPU if possible. \n",
    "                train_input = train_input.to(device)\n",
    "                sensitive, train_target = attributes[:,20], attributes[:,9]\n",
    "               \n",
    "                train_target = train_target.float().to(device)\n",
    "                train_target = train_target.unsqueeze(1)\n",
    "                optimizer.zero_grad()\n",
    "\n",
    "                # Learner update step.\n",
    "                outputs = model(train_input)\n",
    "                loss = criterion(outputs, train_target)\n",
    "                loss.backward()\n",
    "                #logger_learner.add_values(logging_dict)\n",
    "                optimizer.step()\n",
    "                tepoch.set_description(f\"epoch %2f \" % epoches)\n",
    "                tepoch.set_postfix(ut_loss = loss.item())\n",
    "        # Reset the dataloader if out of data.\n",
    "        #model.load_state_dict(torch.load(PATH), False)\n",
    "        test_pred = []\n",
    "        test_gt = []\n",
    "        sense_gt = []\n",
    "        female_predic = []\n",
    "        female_gt = []\n",
    "        male_predic = []\n",
    "        male_gt = []\n",
    "        \n",
    "        \n",
    "        \n",
    "        \n",
    "\n",
    "\n",
    "\n",
    "    # Evaluate on valdi set.\n",
    "        for step, (test_input, attributes) in enumerate(test_data_loader):\n",
    "            sensitive, test_target = attributes[:,20], attributes[:,9]\n",
    "            test_input = test_input.to(device)\n",
    "            test_target = test_target.to(device)\n",
    "\n",
    "            gt = test_target.detach().cpu().numpy()\n",
    "            sen = sensitive.detach().cpu().numpy()\n",
    "            test_gt.extend(gt)\n",
    "            sense_gt.extend(sen)\n",
    "\n",
    "            # Todo: split according to sensitive attribute\n",
    "            # Todo: combine all batch togather\n",
    "\n",
    "            with torch.no_grad():\n",
    "                test_pred_ = model(test_input)\n",
    "                test_pred.extend(torch.round(test_pred_.squeeze(1)).detach().cpu().numpy())\n",
    "\n",
    "        for i in range(len(sense_gt)):\n",
    "            if sense_gt[i] == 0:\n",
    "                female_predic.append(test_pred[i])\n",
    "                female_gt.append(test_gt[i])\n",
    "            else:\n",
    "                male_predic.append(test_pred[i])\n",
    "                male_gt.append(test_gt[i])\n",
    "        female_CM = confusion_matrix(female_gt, female_predic)    \n",
    "        male_CM = confusion_matrix(male_gt, male_predic) \n",
    "        female_dp = (female_CM[1][1]+female_CM[0][1])/(female_CM[0][0]+female_CM[0][1]+female_CM[1][0]+female_CM[1][1])\n",
    "        male_dp = (male_CM[1][1]+male_CM[0][1])/(male_CM[0][0]+male_CM[0][1]+male_CM[1][0]+male_CM[1][1])\n",
    "        female_TPR = female_CM[1][1]/(female_CM[1][1]+female_CM[1][0])\n",
    "        male_TPR = male_CM[1][1]/(male_CM[1][1]+male_CM[1][0])\n",
    "        female_FPR = female_CM[0][1]/(female_CM[0][1]+female_CM[0][0])\n",
    "        male_FPR = male_CM[0][1]/(male_CM[0][1]+male_CM[0][0])\n",
    "        \n",
    "        valid_acc.append(accuracy_score(test_gt, test_pred))\n",
    "        valid_eod.append(0.5*(abs(female_FPR-male_FPR)+ abs(female_TPR-male_TPR)))\n",
    "\n",
    "        print('Female TPR', female_TPR)\n",
    "        print('male TPR', male_TPR)\n",
    "        print('DP',abs(female_dp - male_dp))\n",
    "        print('EOP', abs(female_TPR - male_TPR))\n",
    "        print('EoD',0.5*(abs(female_FPR-male_FPR)+ abs(female_TPR-male_TPR)))\n",
    "        print('acc', accuracy_score(test_gt, test_pred))\n",
    "        print('Trade off',accuracy_score(test_gt, test_pred)*(1-0.5*(abs(female_FPR-male_FPR)+ abs(female_TPR-male_TPR))) )\n",
    "        \n",
    "    return valid_acc,  valid_eod\n",
    "\n",
    "\n",
    "seed_everything(1024)    \n",
    "va, ve = train_model()"
   ]
  }
 ],
 "metadata": {
  "kernelspec": {
   "display_name": "DLcourse",
   "language": "python",
   "name": "dlcourse"
  },
  "language_info": {
   "codemirror_mode": {
    "name": "ipython",
    "version": 3
   },
   "file_extension": ".py",
   "mimetype": "text/x-python",
   "name": "python",
   "nbconvert_exporter": "python",
   "pygments_lexer": "ipython3",
   "version": "3.8.12"
  }
 },
 "nbformat": 4,
 "nbformat_minor": 5
}
