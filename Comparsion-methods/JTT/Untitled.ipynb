{
 "cells": [
  {
   "cell_type": "code",
   "execution_count": 8,
   "id": "34510b1c",
   "metadata": {},
   "outputs": [
    {
     "name": "stdout",
     "output_type": "stream",
     "text": [
      "'../../../celeba/datasets/celeba/list_attr_celeba.csv' is a file.\n"
     ]
    }
   ],
   "source": [
    "import os\n",
    "path ='../../../celeba/datasets/celeba/list_attr_celeba.csv'\n",
    "if os.path.isfile(path):\n",
    "    print(f\"'{path}' is a file.\")\n",
    "else:\n",
    "    print(f\"'{path}' is not a file.\")\n"
   ]
  },
  {
   "cell_type": "code",
   "execution_count": 10,
   "id": "0aa67c44",
   "metadata": {},
   "outputs": [],
   "source": [
    "import pandas as pd\n",
    "metadata_csv_name = \"metadata.csv\"\n",
    "root_dir = \"../../../celeba/datasets/celeba\"\n",
    "df1 = pd.read_csv(os.path.join(root_dir, \"list_eval_partition.csv\"))\n",
    "df2 = pd.read_csv(os.path.join(root_dir, \"list_attr_celeba.csv\"))\n",
    "merged_df = pd.merge(df1, df2)\n",
    "merged_df[\"split\"] = merged_df[\"partition\"]\n",
    "merged_df.to_csv(os.path.join(root_dir,  metadata_csv_name), header=True, index=False)"
   ]
  }
 ],
 "metadata": {
  "kernelspec": {
   "display_name": "Python [conda env:DLcourse]",
   "language": "python",
   "name": "conda-env-DLcourse-py"
  },
  "language_info": {
   "codemirror_mode": {
    "name": "ipython",
    "version": 3
   },
   "file_extension": ".py",
   "mimetype": "text/x-python",
   "name": "python",
   "nbconvert_exporter": "python",
   "pygments_lexer": "ipython3",
   "version": "3.7.13"
  }
 },
 "nbformat": 4,
 "nbformat_minor": 5
}
