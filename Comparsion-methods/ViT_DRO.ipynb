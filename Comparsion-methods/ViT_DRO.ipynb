{
 "cells": [
  {
   "cell_type": "code",
   "execution_count": 1,
   "id": "efe6cfeb",
   "metadata": {},
   "outputs": [
    {
     "name": "stderr",
     "output_type": "stream",
     "text": [
      "/home/shenyu/miniconda3/envs/DLcourse/lib/python3.7/site-packages/tqdm/auto.py:22: TqdmWarning: IProgress not found. Please update jupyter and ipywidgets. See https://ipywidgets.readthedocs.io/en/stable/user_install.html\n",
      "  from .autonotebook import tqdm as notebook_tqdm\n"
     ]
    },
    {
     "name": "stdout",
     "output_type": "stream",
     "text": [
      "Done\n"
     ]
    }
   ],
   "source": [
    "#step 1 import image\n",
    "%matplotlib inline\n",
    "import torchvision.datasets\n",
    "import math\n",
    "import torchvision.transforms as tvt\n",
    "import os\n",
    "import matplotlib.pyplot as plt\n",
    "import numpy as np\n",
    "import pandas as pd\n",
    "import wget\n",
    "import zipfile\n",
    "import torch\n",
    "import torch.nn as nn\n",
    "import torch.nn.functional as F\n",
    "import torch.optim as optim\n",
    "import torchvision.datasets as datasets\n",
    "import torchvision.models as models\n",
    "import torchvision.transforms as tfms\n",
    "from torch.utils.data import DataLoader, Subset, Dataset\n",
    "from torchvision.utils import make_grid\n",
    "from PIL import Image\n",
    "from time import time\n",
    "from tqdm import tqdm\n",
    "from transformers import ViTConfig, ViTModel\n",
    "\n",
    "\n",
    "device = torch.device('cuda:0')\n",
    "\n",
    "image_size = 64\n",
    "batch_size = 1024\n",
    "dataset = torchvision.datasets.CelebA(\"../../celeba/datasets/\",split='train', transform=tvt.Compose([\n",
    "                                  tvt.Resize((image_size,image_size)),\n",
    "                                  tvt.ToTensor(),\n",
    "                                  tvt.Normalize(mean=[0.5, 0.5, 0.5],\n",
    "                                                std=[0.5, 0.5, 0.5])\n",
    "                              ]))\n",
    "\n",
    "test_dataset = torchvision.datasets.CelebA(\"../../celeba/datasets/\",split='test', transform=tvt.Compose([\n",
    "                                  tvt.Resize((image_size,image_size)),\n",
    "                                  tvt.ToTensor(),\n",
    "                                  tvt.Normalize(mean=[0.5, 0.5, 0.5],\n",
    "                                                std=[0.5, 0.5, 0.5])\n",
    "                              ]))\n",
    "\n",
    "training_data_loader = torch.utils.data.DataLoader(dataset, batch_size=batch_size, shuffle=True, drop_last=True)\n",
    "test_data_loader = torch.utils.data.DataLoader(test_dataset, batch_size=batch_size, shuffle=True, drop_last=True)\n",
    "print('Done')"
   ]
  },
  {
   "cell_type": "code",
   "execution_count": 2,
   "id": "838b9b86",
   "metadata": {},
   "outputs": [],
   "source": [
    "class VisionTransformer(nn.Module):\n",
    "    def __init__(self, vit):\n",
    "        super(VisionTransformer, self).__init__()\n",
    "        self.vit = vit\n",
    "        self.seq = nn.Sequential(\n",
    "            nn.Linear(768, 256),\n",
    "            nn.ReLU(),\n",
    "            nn.Linear(256, 1)\n",
    "        )\n",
    "    \n",
    "    def forward(self, x):\n",
    "        z = self.vit(x)\n",
    "        m = z.last_hidden_state\n",
    "        g = m[:,0]\n",
    "        y = self.seq(g)\n",
    "        return y "
   ]
  },
  {
   "cell_type": "code",
   "execution_count": 3,
   "id": "93c22fd6",
   "metadata": {
    "scrolled": false
   },
   "outputs": [
    {
     "name": "stderr",
     "output_type": "stream",
     "text": [
      "epoch 0.000000 : 100%|██████| 158/158 [02:30<00:00,  1.05batch/s, ut_loss=0.216]\n"
     ]
    },
    {
     "name": "stdout",
     "output_type": "stream",
     "text": [
      "Female TPR 0.8577652485904664\n",
      "male TPR 0.46802794196668457\n",
      "DP 0.5316184231069476\n",
      "EOP 0.38973730662378187\n",
      "EoD 0.38335848260766037\n",
      "acc 0.758069490131579\n",
      "Trade off 0.4674571206835741\n"
     ]
    },
    {
     "name": "stderr",
     "output_type": "stream",
     "text": [
      "epoch 1.000000 : 100%|██████| 158/158 [02:29<00:00,  1.06batch/s, ut_loss=0.177]\n"
     ]
    },
    {
     "name": "stdout",
     "output_type": "stream",
     "text": [
      "Female TPR 0.9388123148267422\n",
      "male TPR 0.7254691689008043\n",
      "DP 0.5079374952706557\n",
      "EOP 0.21334314592593795\n",
      "EoD 0.32870556824818303\n",
      "acc 0.7560649671052632\n",
      "Trade off 0.5075422024603838\n"
     ]
    },
    {
     "name": "stderr",
     "output_type": "stream",
     "text": [
      "epoch 2.000000 : 100%|██████| 158/158 [02:29<00:00,  1.06batch/s, ut_loss=0.176]\n"
     ]
    },
    {
     "name": "stdout",
     "output_type": "stream",
     "text": [
      "Female TPR 0.8774143703322174\n",
      "male TPR 0.5509333333333334\n",
      "DP 0.5137049527074082\n",
      "EOP 0.326481036998884\n",
      "EoD 0.3372994008506437\n",
      "acc 0.7810444078947368\n",
      "Trade off 0.5175985970740964\n"
     ]
    },
    {
     "name": "stderr",
     "output_type": "stream",
     "text": [
      "epoch 3.000000 : 100%|██████| 158/158 [02:29<00:00,  1.06batch/s, ut_loss=0.188]\n"
     ]
    },
    {
     "name": "stdout",
     "output_type": "stream",
     "text": [
      "Female TPR 0.8719002955158679\n",
      "male TPR 0.5771090811391725\n",
      "DP 0.4956878384377634\n",
      "EOP 0.2947912143766954\n",
      "EoD 0.3089098020337912\n",
      "acc 0.7865439967105263\n",
      "Trade off 0.5435728463958107\n"
     ]
    },
    {
     "name": "stderr",
     "output_type": "stream",
     "text": [
      "epoch 4.000000 : 100%|██████| 158/158 [02:29<00:00,  1.06batch/s, ut_loss=0.163]\n"
     ]
    },
    {
     "name": "stdout",
     "output_type": "stream",
     "text": [
      "Female TPR 0.8454814243476025\n",
      "male TPR 0.4751469802244789\n",
      "DP 0.5062563664081826\n",
      "EOP 0.37033444412312366\n",
      "EoD 0.3323856408195661\n",
      "acc 0.7885485197368421\n",
      "Trade off 0.5264463146867916\n"
     ]
    },
    {
     "name": "stderr",
     "output_type": "stream",
     "text": [
      "epoch 5.000000 : 100%|██████| 158/158 [02:29<00:00,  1.06batch/s, ut_loss=0.165]\n"
     ]
    },
    {
     "name": "stdout",
     "output_type": "stream",
     "text": [
      "Female TPR 0.8775273663876368\n",
      "male TPR 0.5367292225201072\n",
      "DP 0.5130140069160443\n",
      "EOP 0.3407981438675296\n",
      "EoD 0.331383164757198\n",
      "acc 0.7906044407894737\n",
      "Trade off 0.5286114391295631\n"
     ]
    },
    {
     "name": "stderr",
     "output_type": "stream",
     "text": [
      "epoch 6.000000 : 100%|███████| 158/158 [02:29<00:00,  1.06batch/s, ut_loss=0.17]\n"
     ]
    },
    {
     "name": "stdout",
     "output_type": "stream",
     "text": [
      "Female TPR 0.9300861071841665\n",
      "male TPR 0.7076180257510729\n",
      "DP 0.49670154742335176\n",
      "EOP 0.2224680814330936\n",
      "EoD 0.30540851517729556\n",
      "acc 0.7744140625\n",
      "Trade off 0.5379014135394576\n"
     ]
    },
    {
     "name": "stderr",
     "output_type": "stream",
     "text": [
      "epoch 7.000000 : 100%|██████| 158/158 [02:29<00:00,  1.06batch/s, ut_loss=0.158]\n"
     ]
    },
    {
     "name": "stdout",
     "output_type": "stream",
     "text": [
      "Female TPR 0.9005019951087656\n",
      "male TPR 0.692390717754992\n",
      "DP 0.4647941007636227\n",
      "EOP 0.20811127735377366\n",
      "EoD 0.2704900487024433\n",
      "acc 0.7758532072368421\n",
      "Trade off 0.5659926354254019\n"
     ]
    },
    {
     "name": "stderr",
     "output_type": "stream",
     "text": [
      "epoch 8.000000 : 100%|██████| 158/158 [02:31<00:00,  1.04batch/s, ut_loss=0.143]\n"
     ]
    },
    {
     "name": "stdout",
     "output_type": "stream",
     "text": [
      "Female TPR 0.8542551821810223\n",
      "male TPR 0.5431635388739946\n",
      "DP 0.48004858501165754\n",
      "EOP 0.31109164330702765\n",
      "EoD 0.30555464708977886\n",
      "acc 0.7760074013157895\n",
      "Trade off 0.538894733667687\n"
     ]
    },
    {
     "name": "stderr",
     "output_type": "stream",
     "text": [
      "epoch 9.000000 : 100%|██████| 158/158 [02:32<00:00,  1.03batch/s, ut_loss=0.133]\n"
     ]
    },
    {
     "name": "stdout",
     "output_type": "stream",
     "text": [
      "Female TPR 0.8481924610832369\n",
      "male TPR 0.5860042735042735\n",
      "DP 0.45333166241917244\n",
      "EOP 0.26218818757896334\n",
      "EoD 0.2711343936097874\n",
      "acc 0.775133634868421\n",
      "Trade off 0.5649682468118213\n"
     ]
    },
    {
     "name": "stderr",
     "output_type": "stream",
     "text": [
      "epoch 10.000000 : 100%|█████| 158/158 [02:32<00:00,  1.04batch/s, ut_loss=0.118]\n"
     ]
    },
    {
     "name": "stdout",
     "output_type": "stream",
     "text": [
      "Female TPR 0.8470331363986643\n",
      "male TPR 0.5845905172413793\n",
      "DP 0.4445697335405683\n",
      "EOP 0.26244261915728495\n",
      "EoD 0.2710008404696459\n",
      "acc 0.763671875\n",
      "Trade off 0.5567161550319696\n"
     ]
    },
    {
     "name": "stderr",
     "output_type": "stream",
     "text": [
      "epoch 11.000000 : 100%|████| 158/158 [02:32<00:00,  1.04batch/s, ut_loss=0.0911]\n"
     ]
    },
    {
     "name": "stdout",
     "output_type": "stream",
     "text": [
      "Female TPR 0.8501733213506226\n",
      "male TPR 0.5950590762620838\n",
      "DP 0.4464830390628612\n",
      "EOP 0.25511424508853886\n",
      "EoD 0.2731321883780386\n",
      "acc 0.7620785361842105\n",
      "Trade off 0.5539303578802848\n"
     ]
    },
    {
     "name": "stderr",
     "output_type": "stream",
     "text": [
      "epoch 12.000000 : 100%|████| 158/158 [02:32<00:00,  1.03batch/s, ut_loss=0.0744]\n"
     ]
    },
    {
     "name": "stdout",
     "output_type": "stream",
     "text": [
      "Female TPR 0.8609467455621301\n",
      "male TPR 0.5970069481560663\n",
      "DP 0.4510270588068269\n",
      "EOP 0.2639397974060639\n",
      "EoD 0.2845689148198857\n",
      "acc 0.7553967927631579\n",
      "Trade off 0.5404343471881239\n"
     ]
    },
    {
     "name": "stderr",
     "output_type": "stream",
     "text": [
      "epoch 13.000000 : 100%|█████| 158/158 [02:32<00:00,  1.03batch/s, ut_loss=0.066]\n"
     ]
    },
    {
     "name": "stdout",
     "output_type": "stream",
     "text": [
      "Female TPR 0.8348082595870207\n",
      "male TPR 0.5689008042895443\n",
      "DP 0.4424757209574043\n",
      "EOP 0.2659074552974764\n",
      "EoD 0.27180398008957873\n",
      "acc 0.76171875\n",
      "Trade off 0.5546805620411412\n"
     ]
    },
    {
     "name": "stderr",
     "output_type": "stream",
     "text": [
      "epoch 14.000000 : 100%|████| 158/158 [02:31<00:00,  1.04batch/s, ut_loss=0.0589]\n"
     ]
    },
    {
     "name": "stdout",
     "output_type": "stream",
     "text": [
      "Female TPR 0.8033419023136247\n",
      "male TPR 0.5392838054516301\n",
      "DP 0.4220939485392323\n",
      "EOP 0.26405809686199455\n",
      "EoD 0.26390488077998187\n",
      "acc 0.7464021381578947\n",
      "Trade off 0.549422970873412\n"
     ]
    },
    {
     "name": "stderr",
     "output_type": "stream",
     "text": [
      "epoch 15.000000 : 100%|████| 158/158 [02:32<00:00,  1.03batch/s, ut_loss=0.0452]\n"
     ]
    },
    {
     "name": "stdout",
     "output_type": "stream",
     "text": [
      "Female TPR 0.8738089106361061\n",
      "male TPR 0.6581333333333333\n",
      "DP 0.4341161207414519\n",
      "EOP 0.21567557730277276\n",
      "EoD 0.26247968738337923\n",
      "acc 0.7516447368421053\n",
      "Trade off 0.5543532612924271\n"
     ]
    },
    {
     "name": "stderr",
     "output_type": "stream",
     "text": [
      "epoch 16.000000 : 100%|████| 158/158 [02:31<00:00,  1.04batch/s, ut_loss=0.0367]\n"
     ]
    },
    {
     "name": "stdout",
     "output_type": "stream",
     "text": [
      "Female TPR 0.8198175041768411\n",
      "male TPR 0.6189462480042576\n",
      "DP 0.4047280992519582\n",
      "EOP 0.2008712561725835\n",
      "EoD 0.23325167183589385\n",
      "acc 0.7501027960526315\n",
      "Trade off 0.5751400648245767\n"
     ]
    },
    {
     "name": "stderr",
     "output_type": "stream",
     "text": [
      "epoch 17.000000 : 100%|████| 158/158 [02:32<00:00,  1.04batch/s, ut_loss=0.0238]\n"
     ]
    },
    {
     "name": "stdout",
     "output_type": "stream",
     "text": [
      "Female TPR 0.7949376846974174\n",
      "male TPR 0.5485254691689008\n",
      "DP 0.404621802352782\n",
      "EOP 0.24641221552851666\n",
      "EoD 0.24211365190764153\n",
      "acc 0.7488178453947368\n",
      "Trade off 0.5675188222326054\n"
     ]
    },
    {
     "name": "stderr",
     "output_type": "stream",
     "text": [
      "epoch 18.000000 : 100%|████| 158/158 [02:32<00:00,  1.03batch/s, ut_loss=0.0311]\n"
     ]
    },
    {
     "name": "stdout",
     "output_type": "stream",
     "text": [
      "Female TPR 0.8292651593011305\n",
      "male TPR 0.5594405594405595\n",
      "DP 0.4360394304400781\n",
      "EOP 0.26982459986057106\n",
      "EoD 0.2715664649608886\n",
      "acc 0.7552939967105263\n",
      "Trade off 0.5501814760176676\n"
     ]
    },
    {
     "name": "stderr",
     "output_type": "stream",
     "text": [
      "epoch 19.000000 : 100%|████| 158/158 [02:32<00:00,  1.04batch/s, ut_loss=0.0246]\n"
     ]
    },
    {
     "name": "stdout",
     "output_type": "stream",
     "text": [
      "Female TPR 0.7842179668423082\n",
      "male TPR 0.5382978723404256\n",
      "DP 0.40822899999376716\n",
      "EOP 0.24592009450188257\n",
      "EoD 0.24624207903169765\n",
      "acc 0.7478412828947368\n",
      "Trade off 0.5636912906090048\n"
     ]
    },
    {
     "name": "stderr",
     "output_type": "stream",
     "text": [
      "epoch 20.000000 : 100%|████| 158/158 [02:32<00:00,  1.04batch/s, ut_loss=0.0196]\n"
     ]
    },
    {
     "name": "stdout",
     "output_type": "stream",
     "text": [
      "Female TPR 0.8117074420391956\n",
      "male TPR 0.5362860192102454\n",
      "DP 0.43617647044074487\n",
      "EOP 0.2754214228289502\n",
      "EoD 0.27200720521500443\n",
      "acc 0.7559107730263158\n",
      "Trade off 0.550297596263514\n"
     ]
    },
    {
     "name": "stderr",
     "output_type": "stream",
     "text": [
      "epoch 21.000000 : 100%|████| 158/158 [02:32<00:00,  1.04batch/s, ut_loss=0.0279]\n"
     ]
    },
    {
     "name": "stdout",
     "output_type": "stream",
     "text": [
      "Female TPR 0.8227032598891896\n",
      "male TPR 0.6009641135511515\n",
      "DP 0.4177711970118201\n",
      "EOP 0.22173914633803804\n",
      "EoD 0.24658388795760236\n",
      "acc 0.7533408717105263\n",
      "Trade off 0.5675791506067754\n"
     ]
    },
    {
     "name": "stderr",
     "output_type": "stream",
     "text": [
      "epoch 22.000000 : 100%|████| 158/158 [02:33<00:00,  1.03batch/s, ut_loss=0.0272]\n"
     ]
    },
    {
     "name": "stdout",
     "output_type": "stream",
     "text": [
      "Female TPR 0.822247853389722\n",
      "male TPR 0.5641438539989264\n",
      "DP 0.43306349051055415\n",
      "EOP 0.25810399939079554\n",
      "EoD 0.2642929992501404\n",
      "acc 0.7578638980263158\n",
      "Trade off 0.5575657753935382\n"
     ]
    },
    {
     "name": "stderr",
     "output_type": "stream",
     "text": [
      "epoch 23.000000 : 100%|████| 158/158 [02:32<00:00,  1.04batch/s, ut_loss=0.0196]\n"
     ]
    },
    {
     "name": "stdout",
     "output_type": "stream",
     "text": [
      "Female TPR 0.8336750384418247\n",
      "male TPR 0.577209797657082\n",
      "DP 0.43743554321912803\n",
      "EOP 0.25646524078474264\n",
      "EoD 0.26802601981565105\n",
      "acc 0.7583778782894737\n",
      "Trade off 0.5551128740553078\n"
     ]
    },
    {
     "name": "stderr",
     "output_type": "stream",
     "text": [
      "epoch 24.000000 : 100%|████| 158/158 [02:32<00:00,  1.04batch/s, ut_loss=0.0264]\n"
     ]
    },
    {
     "name": "stdout",
     "output_type": "stream",
     "text": [
      "Female TPR 0.8200051427102083\n",
      "male TPR 0.5634028892455859\n",
      "DP 0.43368005139303567\n",
      "EOP 0.2566022534646224\n",
      "EoD 0.26724670765627556\n",
      "acc 0.7548314144736842\n",
      "Trade off 0.5531052041200626\n"
     ]
    },
    {
     "name": "stderr",
     "output_type": "stream",
     "text": [
      "epoch 25.000000 : 100%|████| 158/158 [02:32<00:00,  1.04batch/s, ut_loss=0.0255]\n"
     ]
    },
    {
     "name": "stdout",
     "output_type": "stream",
     "text": [
      "Female TPR 0.8716859716859717\n",
      "male TPR 0.6349462365591397\n",
      "DP 0.43968542542401606\n",
      "EOP 0.236739735126832\n",
      "EoD 0.27221841209339775\n",
      "acc 0.7500513980263158\n",
      "Trade off 0.5458735974671591\n"
     ]
    },
    {
     "name": "stderr",
     "output_type": "stream",
     "text": [
      "epoch 26.000000 : 100%|████| 158/158 [02:32<00:00,  1.04batch/s, ut_loss=0.0234]\n"
     ]
    },
    {
     "name": "stdout",
     "output_type": "stream",
     "text": [
      "Female TPR 0.8305019305019306\n",
      "male TPR 0.5675094136632598\n",
      "DP 0.4386943588921793\n",
      "EOP 0.26299251683867075\n",
      "EoD 0.2734991446880654\n",
      "acc 0.7540604440789473\n",
      "Trade off 0.5478255575802524\n"
     ]
    },
    {
     "name": "stderr",
     "output_type": "stream",
     "text": [
      "epoch 27.000000 : 100%|████| 158/158 [02:30<00:00,  1.05batch/s, ut_loss=0.0136]\n"
     ]
    },
    {
     "name": "stdout",
     "output_type": "stream",
     "text": [
      "Female TPR 0.8356252409715975\n",
      "male TPR 0.5708177445216461\n",
      "DP 0.4339189722189002\n",
      "EOP 0.2648074964499514\n",
      "EoD 0.26899236918828423\n",
      "acc 0.7544716282894737\n",
      "Trade off 0.5515245175105455\n"
     ]
    },
    {
     "name": "stderr",
     "output_type": "stream",
     "text": [
      "epoch 28.000000 : 100%|████| 158/158 [02:32<00:00,  1.04batch/s, ut_loss=0.0185]\n"
     ]
    },
    {
     "name": "stdout",
     "output_type": "stream",
     "text": [
      "Female TPR 0.8356041131105398\n",
      "male TPR 0.5463806970509384\n",
      "DP 0.45997487394520536\n",
      "EOP 0.28922341605960145\n",
      "EoD 0.2946093022972594\n",
      "acc 0.7594058388157895\n",
      "Trade off 0.5356778144818047\n"
     ]
    },
    {
     "name": "stderr",
     "output_type": "stream",
     "text": [
      "epoch 29.000000 : 100%|████| 158/158 [02:32<00:00,  1.04batch/s, ut_loss=0.0176]\n"
     ]
    },
    {
     "name": "stdout",
     "output_type": "stream",
     "text": [
      "Female TPR 0.8011785805790418\n",
      "male TPR 0.5302624531333691\n",
      "DP 0.4229478892696953\n",
      "EOP 0.2709161274456727\n",
      "EoD 0.26396706751779386\n",
      "acc 0.7484066611842105\n",
      "Trade off 0.5508519495206313\n"
     ]
    },
    {
     "name": "stderr",
     "output_type": "stream",
     "text": [
      "epoch 30.000000 : 100%|████| 158/158 [02:32<00:00,  1.04batch/s, ut_loss=0.0187]\n"
     ]
    },
    {
     "name": "stdout",
     "output_type": "stream",
     "text": [
      "Female TPR 0.8234009761109684\n",
      "male TPR 0.5973118279569892\n",
      "DP 0.4143501009537082\n",
      "EOP 0.22608914815397918\n",
      "EoD 0.24163681219111965\n",
      "acc 0.7559621710526315\n",
      "Trade off 0.5732938819023957\n"
     ]
    },
    {
     "name": "stderr",
     "output_type": "stream",
     "text": [
      "epoch 31.000000 : 100%|████| 158/158 [02:32<00:00,  1.04batch/s, ut_loss=0.0204]\n"
     ]
    },
    {
     "name": "stdout",
     "output_type": "stream",
     "text": [
      "Female TPR 0.8251513980157196\n",
      "male TPR 0.5922953451043339\n",
      "DP 0.41968015721010826\n",
      "EOP 0.23285605291138567\n",
      "EoD 0.2515507325791266\n",
      "acc 0.7517989309210527\n",
      "Trade off 0.5626833590956576\n"
     ]
    },
    {
     "name": "stderr",
     "output_type": "stream",
     "text": [
      "epoch 32.000000 : 100%|████| 158/158 [02:31<00:00,  1.04batch/s, ut_loss=0.0196]\n"
     ]
    },
    {
     "name": "stdout",
     "output_type": "stream",
     "text": [
      "Female TPR 0.8482475285659263\n",
      "male TPR 0.6455764075067024\n",
      "DP 0.4105792838777892\n",
      "EOP 0.2026711210592239\n",
      "EoD 0.2390200733027144\n",
      "acc 0.7491262335526315\n",
      "Trade off 0.5700700262958952\n"
     ]
    },
    {
     "name": "stderr",
     "output_type": "stream",
     "text": [
      "epoch 33.000000 : 100%|████| 158/158 [02:31<00:00,  1.04batch/s, ut_loss=0.0169]\n"
     ]
    },
    {
     "name": "stdout",
     "output_type": "stream",
     "text": [
      "Female TPR 0.8328197226502311\n",
      "male TPR 0.5888352120236178\n",
      "DP 0.43082243712430923\n",
      "EOP 0.2439845106266133\n",
      "EoD 0.2596652118131796\n",
      "acc 0.7576069078947368\n",
      "Trade off 0.560882749685122\n"
     ]
    },
    {
     "name": "stderr",
     "output_type": "stream",
     "text": [
      "epoch 34.000000 : 100%|████| 158/158 [02:31<00:00,  1.04batch/s, ut_loss=0.0212]\n"
     ]
    },
    {
     "name": "stdout",
     "output_type": "stream",
     "text": [
      "Female TPR 0.8315802975885069\n",
      "male TPR 0.6063543349488422\n",
      "DP 0.413038535530024\n",
      "EOP 0.22522596263966477\n",
      "EoD 0.24124879229944013\n",
      "acc 0.7541118421052632\n",
      "Trade off 0.5721832709386623\n"
     ]
    },
    {
     "name": "stderr",
     "output_type": "stream",
     "text": [
      "epoch 35.000000 : 100%|████| 158/158 [02:31<00:00,  1.04batch/s, ut_loss=0.0108]\n"
     ]
    },
    {
     "name": "stdout",
     "output_type": "stream",
     "text": [
      "Female TPR 0.814486041425447\n",
      "male TPR 0.5812332439678284\n",
      "DP 0.4187556262121079\n",
      "EOP 0.23325279745761862\n",
      "EoD 0.25160500986240963\n",
      "acc 0.7505653782894737\n",
      "Trade off 0.5617193688825675\n"
     ]
    },
    {
     "name": "stderr",
     "output_type": "stream",
     "text": [
      "epoch 36.000000 : 100%|████| 158/158 [02:32<00:00,  1.04batch/s, ut_loss=0.0166]\n"
     ]
    },
    {
     "name": "stdout",
     "output_type": "stream",
     "text": [
      "Female TPR 0.8480801335559266\n",
      "male TPR 0.6042666666666666\n",
      "DP 0.4377303221417122\n",
      "EOP 0.24381346688925998\n",
      "EoD 0.2683718664220906\n",
      "acc 0.7552425986842105\n",
      "Trade off 0.552556732873859\n"
     ]
    },
    {
     "name": "stderr",
     "output_type": "stream",
     "text": [
      "epoch 37.000000 : 100%|████| 158/158 [02:32<00:00,  1.03batch/s, ut_loss=0.0154]\n"
     ]
    },
    {
     "name": "stdout",
     "output_type": "stream",
     "text": [
      "Female TPR 0.8252702007205353\n",
      "male TPR 0.5475427350427351\n",
      "DP 0.4480967352361065\n",
      "EOP 0.27772746567780016\n",
      "EoD 0.28003272645308763\n",
      "acc 0.7613075657894737\n",
      "Trade off 0.548116532472084\n"
     ]
    },
    {
     "name": "stderr",
     "output_type": "stream",
     "text": [
      "epoch 38.000000 : 100%|████| 158/158 [02:32<00:00,  1.03batch/s, ut_loss=0.0135]\n"
     ]
    },
    {
     "name": "stdout",
     "output_type": "stream",
     "text": [
      "Female TPR 0.8314274701272003\n",
      "male TPR 0.5933654360620653\n",
      "DP 0.4266205402717909\n",
      "EOP 0.23806203406513504\n",
      "EoD 0.2554545010175103\n",
      "acc 0.7564247532894737\n",
      "Trade off 0.5631926453806179\n"
     ]
    },
    {
     "name": "stderr",
     "output_type": "stream",
     "text": [
      "epoch 39.000000 : 100%|████| 158/158 [02:33<00:00,  1.03batch/s, ut_loss=0.0153]\n"
     ]
    },
    {
     "name": "stdout",
     "output_type": "stream",
     "text": [
      "Female TPR 0.8149434156378601\n",
      "male TPR 0.5313001605136437\n",
      "DP 0.4355594765193989\n",
      "EOP 0.2836432551242164\n",
      "EoD 0.274781214488936\n",
      "acc 0.75390625\n",
      "Trade off 0.5467469750142006\n"
     ]
    },
    {
     "name": "stderr",
     "output_type": "stream",
     "text": [
      "epoch 40.000000 : 100%|█████| 158/158 [02:32<00:00,  1.03batch/s, ut_loss=0.013]\n"
     ]
    },
    {
     "name": "stdout",
     "output_type": "stream",
     "text": [
      "Female TPR 0.8327557438069567\n",
      "male TPR 0.579849946409432\n",
      "DP 0.4256107038959558\n",
      "EOP 0.2529057973975247\n",
      "EoD 0.26125128219958144\n",
      "acc 0.7510279605263158\n",
      "Trade off 0.5548209428710792\n"
     ]
    },
    {
     "name": "stderr",
     "output_type": "stream",
     "text": [
      "epoch 41.000000 : 100%|████| 158/158 [02:32<00:00,  1.04batch/s, ut_loss=0.0181]\n"
     ]
    },
    {
     "name": "stdout",
     "output_type": "stream",
     "text": [
      "Female TPR 0.8559354590856704\n",
      "male TPR 0.5897161221210498\n",
      "DP 0.45531636926080477\n",
      "EOP 0.2662193369646205\n",
      "EoD 0.2876946605327928\n",
      "acc 0.7572471217105263\n",
      "Trade off 0.5393911680905821\n"
     ]
    },
    {
     "name": "stderr",
     "output_type": "stream",
     "text": [
      "epoch 42.000000 : 100%|█████| 158/158 [02:32<00:00,  1.03batch/s, ut_loss=0.016]\n"
     ]
    },
    {
     "name": "stdout",
     "output_type": "stream",
     "text": [
      "Female TPR 0.8190806368772471\n",
      "male TPR 0.5712754555198285\n",
      "DP 0.4215375261976015\n",
      "EOP 0.24780518135741858\n",
      "EoD 0.25438722757403215\n",
      "acc 0.75390625\n",
      "Trade off 0.5621221292117647\n"
     ]
    },
    {
     "name": "stderr",
     "output_type": "stream",
     "text": [
      "epoch 43.000000 : 100%|████| 158/158 [02:33<00:00,  1.03batch/s, ut_loss=0.0109]\n"
     ]
    },
    {
     "name": "stdout",
     "output_type": "stream",
     "text": [
      "Female TPR 0.8551359711303003\n",
      "male TPR 0.5871313672922251\n",
      "DP 0.4572212828437435\n",
      "EOP 0.2680046038380751\n",
      "EoD 0.2885350628583374\n",
      "acc 0.7587890625\n",
      "Trade off 0.5398518126553435\n"
     ]
    },
    {
     "name": "stderr",
     "output_type": "stream",
     "text": [
      "epoch 44.000000 : 100%|███| 158/158 [02:33<00:00,  1.03batch/s, ut_loss=0.00946]\n"
     ]
    },
    {
     "name": "stdout",
     "output_type": "stream",
     "text": [
      "Female TPR 0.8232271325796505\n",
      "male TPR 0.5531233315536572\n",
      "DP 0.43667799704188137\n",
      "EOP 0.2701038010259933\n",
      "EoD 0.2701584066417632\n",
      "acc 0.758069490131579\n",
      "Trade off 0.5532706445538977\n"
     ]
    },
    {
     "name": "stderr",
     "output_type": "stream",
     "text": [
      "epoch 45.000000 : 100%|████| 158/158 [02:33<00:00,  1.03batch/s, ut_loss=0.0106]\n"
     ]
    },
    {
     "name": "stdout",
     "output_type": "stream",
     "text": [
      "Female TPR 0.8314259997428314\n",
      "male TPR 0.5860415556739478\n",
      "DP 0.42465159012697995\n",
      "EOP 0.2453844440688836\n",
      "EoD 0.26013821098922435\n",
      "acc 0.7504111842105263\n",
      "Trade off 0.5552005612436948\n"
     ]
    },
    {
     "name": "stderr",
     "output_type": "stream",
     "text": [
      "epoch 46.000000 : 100%|████| 158/158 [02:33<00:00,  1.03batch/s, ut_loss=0.0168]\n"
     ]
    },
    {
     "name": "stdout",
     "output_type": "stream",
     "text": [
      "Female TPR 0.8120571943836146\n",
      "male TPR 0.5737265415549598\n",
      "DP 0.41683635884623893\n",
      "EOP 0.23833065282865473\n",
      "EoD 0.2503798121597807\n",
      "acc 0.7512849506578947\n",
      "Trade off 0.563178365833701\n"
     ]
    },
    {
     "name": "stderr",
     "output_type": "stream",
     "text": [
      "epoch 47.000000 : 100%|█████| 158/158 [02:33<00:00,  1.03batch/s, ut_loss=0.015]\n"
     ]
    },
    {
     "name": "stdout",
     "output_type": "stream",
     "text": [
      "Female TPR 0.8406635802469136\n",
      "male TPR 0.6014997321906802\n",
      "DP 0.4342925413748684\n",
      "EOP 0.23916384805623336\n",
      "EoD 0.2677666554791957\n",
      "acc 0.7503083881578947\n",
      "Trade off 0.549400820482869\n"
     ]
    },
    {
     "name": "stderr",
     "output_type": "stream",
     "text": [
      "epoch 48.000000 : 100%|███| 158/158 [02:32<00:00,  1.03batch/s, ut_loss=0.00833]\n"
     ]
    },
    {
     "name": "stdout",
     "output_type": "stream",
     "text": [
      "Female TPR 0.8558013892462053\n",
      "male TPR 0.6048257372654156\n",
      "DP 0.4464991243739712\n",
      "EOP 0.25097565198078975\n",
      "EoD 0.27377166337072745\n",
      "acc 0.7602796052631579\n",
      "Trade off 0.5521365931034231\n"
     ]
    },
    {
     "name": "stderr",
     "output_type": "stream",
     "text": [
      "epoch 49.000000 : 100%|████| 158/158 [02:32<00:00,  1.04batch/s, ut_loss=0.0153]\n"
     ]
    },
    {
     "name": "stdout",
     "output_type": "stream",
     "text": [
      "Female TPR 0.8362445414847162\n",
      "male TPR 0.583467525496511\n",
      "DP 0.4335688429721283\n",
      "EOP 0.2527770159882051\n",
      "EoD 0.26446311959386953\n",
      "acc 0.756578947368421\n",
      "Trade off 0.5564917187283224\n"
     ]
    },
    {
     "name": "stderr",
     "output_type": "stream",
     "text": [
      "epoch 50.000000 : 100%|████| 158/158 [02:33<00:00,  1.03batch/s, ut_loss=0.0157]\n"
     ]
    },
    {
     "name": "stdout",
     "output_type": "stream",
     "text": [
      "Female TPR 0.843798250128667\n",
      "male TPR 0.5951742627345844\n",
      "DP 0.43908116824643234\n",
      "EOP 0.24862398739408265\n",
      "EoD 0.271237969697144\n",
      "acc 0.7540090460526315\n",
      "Trade off 0.5494931632680354\n"
     ]
    },
    {
     "name": "stderr",
     "output_type": "stream",
     "text": [
      "epoch 51.000000 : 100%|███| 158/158 [02:32<00:00,  1.03batch/s, ut_loss=0.00767]\n"
     ]
    },
    {
     "name": "stdout",
     "output_type": "stream",
     "text": [
      "Female TPR 0.8342314600975109\n",
      "male TPR 0.5128068303094984\n",
      "DP 0.4613705290784069\n",
      "EOP 0.32142462978801256\n",
      "EoD 0.30842393098717813\n",
      "acc 0.751233552631579\n",
      "Trade off 0.5195351472394842\n"
     ]
    },
    {
     "name": "stderr",
     "output_type": "stream",
     "text": [
      "epoch 52.000000 : 100%|███| 158/158 [02:33<00:00,  1.03batch/s, ut_loss=0.00536]\n"
     ]
    },
    {
     "name": "stdout",
     "output_type": "stream",
     "text": [
      "Female TPR 0.8469741744828473\n",
      "male TPR 0.5657541599570585\n",
      "DP 0.4567801323370031\n",
      "EOP 0.2812200145257888\n",
      "EoD 0.2906537576228341\n",
      "acc 0.7586348684210527\n",
      "Trade off 0.5381347932507694\n"
     ]
    },
    {
     "name": "stderr",
     "output_type": "stream",
     "text": [
      "epoch 53.000000 : 100%|████| 158/158 [02:33<00:00,  1.03batch/s, ut_loss=0.0138]\n"
     ]
    },
    {
     "name": "stdout",
     "output_type": "stream",
     "text": [
      "Female TPR 0.819138019497178\n",
      "male TPR 0.5705850778314546\n",
      "DP 0.4223056694554209\n",
      "EOP 0.2485529416657234\n",
      "EoD 0.2533173806196834\n",
      "acc 0.7567845394736842\n",
      "Trade off 0.5650778622407372\n"
     ]
    },
    {
     "name": "stderr",
     "output_type": "stream",
     "text": [
      "epoch 54.000000 : 100%|████| 158/158 [02:33<00:00,  1.03batch/s, ut_loss=0.0107]\n"
     ]
    },
    {
     "name": "stdout",
     "output_type": "stream",
     "text": [
      "Female TPR 0.8565362840967576\n",
      "male TPR 0.5939167556029883\n",
      "DP 0.4489990799911139\n",
      "EOP 0.26261952849376935\n",
      "EoD 0.2846418008618217\n",
      "acc 0.7529296875\n",
      "Trade off 0.5386144253276713\n"
     ]
    }
   ],
   "source": [
    "import random\n",
    "import numpy as np\n",
    "import torch\n",
    "from torch.utils.tensorboard import SummaryWriter\n",
    "from torch.utils.data import DataLoader\n",
    "from sklearn.metrics import accuracy_score, precision_score\n",
    "from sklearn.metrics import confusion_matrix\n",
    "from collections import OrderedDict\n",
    "import seaborn as sns\n",
    "\n",
    "\n",
    "class DRO_loss(torch.nn.Module):\n",
    "    def __init__(self, eta, k):\n",
    "        super(DRO_loss, self).__init__()\n",
    "        self.eta = eta\n",
    "        self.k = k\n",
    "        self.logsig = torch.nn.LogSigmoid()\n",
    "        self.relu = torch.nn.ReLU()\n",
    "    \n",
    "    def forward(self, x, y):\n",
    "        bce = -1*y*self.logsig(x) - (1-y)*self.logsig(-x)\n",
    "        if self.k > 0:\n",
    "            bce = self.relu(bce - self.eta)\n",
    "            bce = bce**self.k\n",
    "            return bce.mean()\n",
    "        else:\n",
    "            return bce.mean()\n",
    "\n",
    "\n",
    "def seed_everything(seed):\n",
    "    \"\"\"\n",
    "    Changes the seed for reproducibility. \n",
    "    \"\"\"\n",
    "    random.seed(seed)\n",
    "    np.random.seed(seed)\n",
    "    torch.manual_seed(seed)\n",
    "    torch.backends.cudnn.deterministic = True\n",
    "    torch.backends.cudnn.benchmark = False\n",
    "\n",
    "def train_model():\n",
    "    epoch = 55\n",
    "    configuration = ViTConfig(num_hidden_layers = 8, num_attention_heads = 8, \n",
    "                          intermediate_size = 768, image_size= 64, patch_size = 16)\n",
    "    vit = ViTModel(configuration)\n",
    "    configuration = vit.config\n",
    "    vit = vit.to(device)\n",
    "    model = VisionTransformer(vit)\n",
    "    model = model.to(device)\n",
    "    \n",
    "    criterion = DRO_loss(eta=0.25, k=1.5)\n",
    "    optimizer = optim.AdamW(model.parameters(), lr=1e-4)\n",
    "\n",
    "    #fair_optimizer = optim.Adam(fairnet.parameters(), lr = 1e-3)\n",
    "    #fair_epoch = 30\n",
    "\n",
    "    for epoches in range(epoch):\n",
    "        with tqdm(training_data_loader, unit=\"batch\") as tepoch:\n",
    "            for train_input, attributes in tepoch:\n",
    "                # Transfer data to GPU if possible. \n",
    "                train_input = train_input.to(device)\n",
    "                sensitive, train_target = attributes[:,20], attributes[:,2]\n",
    "               \n",
    "                train_target = train_target.float().to(device)\n",
    "                train_target = train_target.unsqueeze(1)\n",
    "                optimizer.zero_grad()\n",
    "\n",
    "                # Learner update step.\n",
    "                outputs = model(train_input)\n",
    "                loss = criterion(outputs, train_target)\n",
    "                loss.backward(retain_graph=True)\n",
    "                #logger_learner.add_values(logging_dict)\n",
    "                optimizer.step()\n",
    "                tepoch.set_description(f\"epoch %2f \" % epoches)\n",
    "                tepoch.set_postfix(ut_loss = loss.item())\n",
    "        # Reset the dataloader if out of data.\n",
    "        #model.load_state_dict(torch.load(PATH), False)\n",
    "        test_pred = []\n",
    "        test_gt = []\n",
    "        sense_gt = []\n",
    "        female_predic = []\n",
    "        female_gt = []\n",
    "        male_predic = []\n",
    "        male_gt = []\n",
    "\n",
    "\n",
    "\n",
    "    # Evaluate on test set.\n",
    "        for step, (test_input, attributes) in enumerate(test_data_loader):\n",
    "            sensitive, test_target = attributes[:,20], attributes[:,2]\n",
    "            test_input = test_input.to(device)\n",
    "            test_target = test_target.to(device)\n",
    "\n",
    "            gt = test_target.detach().cpu().numpy()\n",
    "            sen = sensitive.detach().cpu().numpy()\n",
    "            test_gt.extend(gt)\n",
    "            sense_gt.extend(sen)\n",
    "\n",
    "            # Todo: split according to sensitive attribute\n",
    "            # Todo: combine all batch togather\n",
    "\n",
    "            with torch.no_grad():\n",
    "                test_pred_= model(test_input)\n",
    "                test_pred_ = torch.sigmoid(test_pred_)\n",
    "                test_pred.extend(torch.round(test_pred_.squeeze(1)).detach().cpu().numpy())\n",
    "\n",
    "        for i in range(len(sense_gt)):\n",
    "            if sense_gt[i] == 0:\n",
    "                female_predic.append(test_pred[i])\n",
    "                female_gt.append(test_gt[i])\n",
    "            else:\n",
    "                male_predic.append(test_pred[i])\n",
    "                male_gt.append(test_gt[i])\n",
    "        female_CM = confusion_matrix(female_gt, female_predic)    \n",
    "        male_CM = confusion_matrix(male_gt, male_predic) \n",
    "        female_dp = (female_CM[1][1]+female_CM[0][1])/(female_CM[0][0]+female_CM[0][1]+female_CM[1][0]+female_CM[1][1])\n",
    "        male_dp = (male_CM[1][1]+male_CM[0][1])/(male_CM[0][0]+male_CM[0][1]+male_CM[1][0]+male_CM[1][1])\n",
    "        female_TPR = female_CM[1][1]/(female_CM[1][1]+female_CM[1][0])\n",
    "        male_TPR = male_CM[1][1]/(male_CM[1][1]+male_CM[1][0])\n",
    "        female_FPR = female_CM[0][1]/(female_CM[0][1]+female_CM[0][0])\n",
    "        male_FPR = male_CM[0][1]/(male_CM[0][1]+male_CM[0][0])\n",
    "\n",
    "        print('Female TPR', female_TPR)\n",
    "        print('male TPR', male_TPR)\n",
    "        print('DP',abs(female_dp - male_dp))\n",
    "        print('EOP', abs(female_TPR - male_TPR))\n",
    "        print('EoD',0.5*(abs(female_FPR-male_FPR)+ abs(female_TPR-male_TPR)))\n",
    "        print('acc', accuracy_score(test_gt, test_pred))\n",
    "        print('Trade off',accuracy_score(test_gt, test_pred)*(1-0.5*(abs(female_FPR-male_FPR)+ abs(female_TPR-male_TPR))) )\n",
    "\n",
    "\n",
    "\n",
    "seed_everything(4096)    \n",
    "train_model()\n"
   ]
  }
 ],
 "metadata": {
  "kernelspec": {
   "display_name": "Python [conda env:DLcourse]",
   "language": "python",
   "name": "conda-env-DLcourse-py"
  },
  "language_info": {
   "codemirror_mode": {
    "name": "ipython",
    "version": 3
   },
   "file_extension": ".py",
   "mimetype": "text/x-python",
   "name": "python",
   "nbconvert_exporter": "python",
   "pygments_lexer": "ipython3",
   "version": "3.7.13"
  }
 },
 "nbformat": 4,
 "nbformat_minor": 5
}
