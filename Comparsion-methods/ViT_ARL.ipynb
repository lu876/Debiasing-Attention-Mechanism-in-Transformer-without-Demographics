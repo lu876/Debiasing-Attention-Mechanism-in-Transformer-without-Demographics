{
 "cells": [
  {
   "cell_type": "code",
   "execution_count": 1,
   "id": "c056c637",
   "metadata": {},
   "outputs": [
    {
     "name": "stderr",
     "output_type": "stream",
     "text": [
      "/home/shenyu/miniconda3/envs/DLcourse/lib/python3.7/site-packages/tqdm/auto.py:22: TqdmWarning: IProgress not found. Please update jupyter and ipywidgets. See https://ipywidgets.readthedocs.io/en/stable/user_install.html\n",
      "  from .autonotebook import tqdm as notebook_tqdm\n"
     ]
    },
    {
     "name": "stdout",
     "output_type": "stream",
     "text": [
      "Done\n"
     ]
    }
   ],
   "source": [
    "#step 1 import image\n",
    "%matplotlib inline\n",
    "import torchvision.datasets\n",
    "import math\n",
    "import torchvision.transforms as tvt\n",
    "import os\n",
    "import matplotlib.pyplot as plt\n",
    "import numpy as np\n",
    "import pandas as pd\n",
    "import wget\n",
    "import zipfile\n",
    "import torch\n",
    "import torch.nn as nn\n",
    "import torch.nn.functional as F\n",
    "import torch.optim as optim\n",
    "import torchvision.datasets as datasets\n",
    "import torchvision.models as models\n",
    "import torchvision.transforms as tfms\n",
    "from torch.utils.data import DataLoader, Subset, Dataset\n",
    "from torchvision.utils import make_grid\n",
    "from PIL import Image\n",
    "from time import time\n",
    "from tqdm import tqdm\n",
    "import random\n",
    "from transformers import ViTConfig, ViTModel\n",
    "\n",
    "\n",
    "\n",
    "def seed_everything(seed):\n",
    "    \"\"\"\n",
    "    Changes the seed for reproducibility. \n",
    "    \"\"\"\n",
    "    random.seed(seed)\n",
    "    np.random.seed(seed)\n",
    "    torch.manual_seed(seed)\n",
    "    torch.backends.cudnn.deterministic = True\n",
    "    torch.backends.cudnn.benchmark = False\n",
    "\n",
    "seed_everything(4096)\n",
    "device = torch.device('cuda:3')\n",
    "\n",
    "image_size = 64\n",
    "batch_size = 1024\n",
    "dataset = torchvision.datasets.CelebA(\"../../celeba/datasets/\",split='train', transform=tvt.Compose([\n",
    "                                  tvt.Resize((image_size,image_size)),\n",
    "                                  tvt.ToTensor(),\n",
    "                                  tvt.Normalize(mean=[0.5, 0.5, 0.5],\n",
    "                                                std=[0.5, 0.5, 0.5])\n",
    "                              ]))\n",
    "\n",
    "test_dataset = torchvision.datasets.CelebA(\"../../celeba/datasets/\",split='test', transform=tvt.Compose([\n",
    "                                  tvt.Resize((image_size,image_size)),\n",
    "                                  tvt.ToTensor(),\n",
    "                                  tvt.Normalize(mean=[0.5, 0.5, 0.5],\n",
    "                                                std=[0.5, 0.5, 0.5])\n",
    "                              ]))\n",
    "\n",
    "training_data_loader = torch.utils.data.DataLoader(dataset, batch_size=batch_size, shuffle=True, drop_last=True)\n",
    "test_data_loader = torch.utils.data.DataLoader(test_dataset, batch_size=batch_size, shuffle=True, drop_last=True)\n",
    "print('Done')"
   ]
  },
  {
   "cell_type": "code",
   "execution_count": 2,
   "id": "817e9706",
   "metadata": {},
   "outputs": [],
   "source": [
    "class VisionTransformer(nn.Module):\n",
    "    def __init__(self, vit):\n",
    "        super(VisionTransformer, self).__init__()\n",
    "        self.vit = vit\n",
    "        self.seq = nn.Sequential(\n",
    "            nn.Linear(768, 256),\n",
    "            nn.ReLU(),\n",
    "            nn.Linear(256, 1)\n",
    "        )\n",
    "    \n",
    "    def forward(self, x):\n",
    "        z = self.vit(x)\n",
    "        m = z.last_hidden_state\n",
    "        g = m[:,0]\n",
    "        y = self.seq(g)\n",
    "        return y "
   ]
  },
  {
   "cell_type": "code",
   "execution_count": 3,
   "id": "91748953",
   "metadata": {},
   "outputs": [],
   "source": [
    "def get_model(data, hidden_layers = 8):\n",
    "    if data == 'celebA':\n",
    "        configuration = ViTConfig(num_hidden_layers = hidden_layers, num_attention_heads = 8, \n",
    "                          intermediate_size = 768, image_size= 64, patch_size = 16)\n",
    "        vit = ViTModel(configuration)\n",
    "        configuration = vit.config\n",
    "        vit = vit.to(device)\n",
    "        model = VisionTransformer(vit)\n",
    "   \n",
    "    else:\n",
    "        return None\n",
    "  \n",
    "    return model\n",
    "\n",
    "class FFN(torch.nn.Module):\n",
    "    def __init__(self, input_size, p_dropout=0.5, n_class=1):\n",
    "        super(FFN, self).__init__()\n",
    "        self.fc1 = nn.Linear(input_size, 32)\n",
    "        self.fc2 = nn.Linear(32, n_class)\n",
    "    \n",
    "        self.dropout = nn.Dropout(p=p_dropout)\n",
    "        \n",
    "    def forward(self, x):\n",
    "        x = self.dropout(self.fc1(x).relu())\n",
    "        #x = self.fc1(x).relu()\n",
    "        x = self.fc2(x)\n",
    "        return x"
   ]
  },
  {
   "cell_type": "code",
   "execution_count": 4,
   "id": "65cb39f4",
   "metadata": {
    "scrolled": false
   },
   "outputs": [
    {
     "name": "stderr",
     "output_type": "stream",
     "text": [
      "epoch 0.000000 : 100%|█| 158/158 [02:37<00:00,  1.01batch/s, adv=-1.92, ut_loss=\n"
     ]
    },
    {
     "name": "stdout",
     "output_type": "stream",
     "text": [
      "Female TPR 0.8635075972186453\n",
      "male TPR 0.47665056360708535\n",
      "DP 0.5408845045055581\n",
      "EOP 0.38685703361156\n",
      "EoD 0.39149303402912994\n",
      "acc 0.7586862664473685\n",
      "Trade off 0.4616658781196553\n"
     ]
    },
    {
     "name": "stderr",
     "output_type": "stream",
     "text": [
      "epoch 1.000000 : 100%|█| 158/158 [02:38<00:00,  1.01s/batch, adv=-4.67, ut_loss=\n"
     ]
    },
    {
     "name": "stdout",
     "output_type": "stream",
     "text": [
      "Female TPR 0.8637647663071392\n",
      "male TPR 0.5042780748663102\n",
      "DP 0.5216423363216857\n",
      "EOP 0.359486691440829\n",
      "EoD 0.36102956349854043\n",
      "acc 0.7676809210526315\n",
      "Trade off 0.49052541321884247\n"
     ]
    },
    {
     "name": "stderr",
     "output_type": "stream",
     "text": [
      "epoch 2.000000 : 100%|█| 158/158 [02:38<00:00,  1.00s/batch, adv=-3.65, ut_loss=\n"
     ]
    },
    {
     "name": "stdout",
     "output_type": "stream",
     "text": [
      "Female TPR 0.9042362002567395\n",
      "male TPR 0.6270912034538586\n",
      "DP 0.5201339371996461\n",
      "EOP 0.27714499680288085\n",
      "EoD 0.3367464746984008\n",
      "acc 0.7756990131578947\n",
      "Trade off 0.5144851050499453\n"
     ]
    },
    {
     "name": "stderr",
     "output_type": "stream",
     "text": [
      "epoch 3.000000 : 100%|█| 158/158 [02:37<00:00,  1.00batch/s, adv=-1.91, ut_loss=\n"
     ]
    },
    {
     "name": "stdout",
     "output_type": "stream",
     "text": [
      "Female TPR 0.8995509942270686\n",
      "male TPR 0.5794291868605277\n",
      "DP 0.5343122329415513\n",
      "EOP 0.32012180736654094\n",
      "EoD 0.3577544698378311\n",
      "acc 0.7773951480263158\n",
      "Trade off 0.49927855898965895\n"
     ]
    },
    {
     "name": "stderr",
     "output_type": "stream",
     "text": [
      "epoch 4.000000 : 100%|█| 158/158 [02:38<00:00,  1.00s/batch, adv=-11.9, ut_loss=\n"
     ]
    },
    {
     "name": "stdout",
     "output_type": "stream",
     "text": [
      "Female TPR 0.8907012586694066\n",
      "male TPR 0.5082932049224184\n",
      "DP 0.5527475560160776\n",
      "EOP 0.3824080537469883\n",
      "EoD 0.3882891979693444\n",
      "acc 0.7762129934210527\n",
      "Trade off 0.47481787275220816\n"
     ]
    },
    {
     "name": "stderr",
     "output_type": "stream",
     "text": [
      "epoch 5.000000 : 100%|█| 158/158 [02:37<00:00,  1.00batch/s, adv=-1.82, ut_loss=\n"
     ]
    },
    {
     "name": "stdout",
     "output_type": "stream",
     "text": [
      "Female TPR 0.8573629477468224\n",
      "male TPR 0.4965184788430637\n",
      "DP 0.5210614501008267\n",
      "EOP 0.3608444689037587\n",
      "EoD 0.3509678610470798\n",
      "acc 0.7801192434210527\n",
      "Trade off 0.5063224611958996\n"
     ]
    },
    {
     "name": "stderr",
     "output_type": "stream",
     "text": [
      "epoch 6.000000 : 100%|█| 158/158 [02:37<00:00,  1.00batch/s, adv=-1.86, ut_loss=\n"
     ]
    },
    {
     "name": "stdout",
     "output_type": "stream",
     "text": [
      "Female TPR 0.9066598097197223\n",
      "male TPR 0.6307609860664523\n",
      "DP 0.5170241249124217\n",
      "EOP 0.27589882365327\n",
      "EoD 0.33009463702272135\n",
      "acc 0.780993009868421\n",
      "Trade off 0.523191405758622\n"
     ]
    },
    {
     "name": "stderr",
     "output_type": "stream",
     "text": [
      "epoch 7.000000 : 100%|█| 158/158 [02:38<00:00,  1.00s/batch, adv=-1.91, ut_loss=\n"
     ]
    },
    {
     "name": "stdout",
     "output_type": "stream",
     "text": [
      "Female TPR 0.8681191182158051\n",
      "male TPR 0.513903743315508\n",
      "DP 0.5155259421542145\n",
      "EOP 0.3542153749002971\n",
      "EoD 0.3371081196896194\n",
      "acc 0.7902446546052632\n",
      "Trade off 0.5238467649965102\n"
     ]
    },
    {
     "name": "stderr",
     "output_type": "stream",
     "text": [
      "epoch 8.000000 : 100%|█| 158/158 [02:38<00:00,  1.00s/batch, adv=-1.95, ut_loss=\n"
     ]
    },
    {
     "name": "stdout",
     "output_type": "stream",
     "text": [
      "Female TPR 0.8929212618620159\n",
      "male TPR 0.6704240472356414\n",
      "DP 0.47013539567990165\n",
      "EOP 0.2224972146263745\n",
      "EoD 0.26924007528438465\n",
      "acc 0.7881373355263158\n",
      "Trade off 0.5759391799747762\n"
     ]
    },
    {
     "name": "stderr",
     "output_type": "stream",
     "text": [
      "epoch 9.000000 : 100%|█| 158/158 [02:36<00:00,  1.01batch/s, adv=-1.81, ut_loss=\n"
     ]
    },
    {
     "name": "stdout",
     "output_type": "stream",
     "text": [
      "Female TPR 0.8952234206471494\n",
      "male TPR 0.6591519055287172\n",
      "DP 0.4824791623292409\n",
      "EOP 0.23607151511843227\n",
      "EoD 0.2861085560853548\n",
      "acc 0.7853104440789473\n",
      "Trade off 0.5606264068447709\n"
     ]
    },
    {
     "name": "stderr",
     "output_type": "stream",
     "text": [
      "epoch 10.000000 : 100%|█| 158/158 [02:38<00:00,  1.00s/batch, adv=-1.95, ut_loss\n"
     ]
    },
    {
     "name": "stdout",
     "output_type": "stream",
     "text": [
      "Female TPR 0.8978936552787053\n",
      "male TPR 0.6770721205597416\n",
      "DP 0.4722519814804168\n",
      "EOP 0.2208215347189637\n",
      "EoD 0.2746766431013564\n",
      "acc 0.7836657072368421\n",
      "Trade off 0.568411041459376\n"
     ]
    },
    {
     "name": "stderr",
     "output_type": "stream",
     "text": [
      "epoch 11.000000 : 100%|█| 158/158 [02:38<00:00,  1.00s/batch, adv=-2.28, ut_loss\n"
     ]
    },
    {
     "name": "stdout",
     "output_type": "stream",
     "text": [
      "Female TPR 0.8782709081580298\n",
      "male TPR 0.5639784946236559\n",
      "DP 0.5095769751802984\n",
      "EOP 0.31429241353437387\n",
      "EoD 0.33744441642206824\n",
      "acc 0.7715871710526315\n",
      "Trade off 0.5112193883980217\n"
     ]
    },
    {
     "name": "stderr",
     "output_type": "stream",
     "text": [
      "epoch 12.000000 : 100%|█| 158/158 [02:38<00:00,  1.00s/batch, adv=-1.85, ut_loss\n"
     ]
    },
    {
     "name": "stdout",
     "output_type": "stream",
     "text": [
      "Female TPR 0.8608940694248751\n",
      "male TPR 0.552319309600863\n",
      "DP 0.49711786516366685\n",
      "EOP 0.30857475982401217\n",
      "EoD 0.31319485018496274\n",
      "acc 0.7852076480263158\n",
      "Trade off 0.5392846563386269\n"
     ]
    },
    {
     "name": "stderr",
     "output_type": "stream",
     "text": [
      "epoch 13.000000 : 100%|█| 158/158 [02:38<00:00,  1.00s/batch, adv=-1.62, ut_loss\n"
     ]
    },
    {
     "name": "stdout",
     "output_type": "stream",
     "text": [
      "Female TPR 0.847457627118644\n",
      "male TPR 0.5398182789951897\n",
      "DP 0.4765082293603238\n",
      "EOP 0.3076393481234543\n",
      "EoD 0.29287110766428126\n",
      "acc 0.7870579769736842\n",
      "Trade off 0.556551435461393\n"
     ]
    },
    {
     "name": "stderr",
     "output_type": "stream",
     "text": [
      "epoch 14.000000 : 100%|█| 158/158 [02:38<00:00,  1.00s/batch, adv=-3.05, ut_loss\n"
     ]
    },
    {
     "name": "stdout",
     "output_type": "stream",
     "text": [
      "Female TPR 0.8618167821401078\n",
      "male TPR 0.5651474530831099\n",
      "DP 0.4777971462978896\n",
      "EOP 0.29666932905699794\n",
      "EoD 0.2936107431793377\n",
      "acc 0.7846936677631579\n",
      "Trade off 0.5542991768030967\n"
     ]
    },
    {
     "name": "stderr",
     "output_type": "stream",
     "text": [
      "epoch 15.000000 : 100%|█| 158/158 [02:34<00:00,  1.02batch/s, adv=-10.3, ut_loss\n"
     ]
    },
    {
     "name": "stdout",
     "output_type": "stream",
     "text": [
      "Female TPR 0.9284611425630468\n",
      "male TPR 0.7741591030432461\n",
      "DP 0.4540525037557252\n",
      "EOP 0.1543020395198007\n",
      "EoD 0.2677776848786577\n",
      "acc 0.7543688322368421\n",
      "Trade off 0.552365692795844\n"
     ]
    },
    {
     "name": "stderr",
     "output_type": "stream",
     "text": [
      "epoch 16.000000 : 100%|█| 158/158 [02:34<00:00,  1.02batch/s, adv=nan, ut_loss=n\n"
     ]
    },
    {
     "ename": "ValueError",
     "evalue": "Input contains NaN, infinity or a value too large for dtype('float32').",
     "output_type": "error",
     "traceback": [
      "\u001b[0;31m---------------------------------------------------------------------------\u001b[0m",
      "\u001b[0;31mValueError\u001b[0m                                Traceback (most recent call last)",
      "\u001b[0;32m/tmp/ipykernel_1707457/1826345933.py\u001b[0m in \u001b[0;36m<module>\u001b[0;34m\u001b[0m\n\u001b[1;32m     80\u001b[0m             \u001b[0mmale_predic\u001b[0m\u001b[0;34m.\u001b[0m\u001b[0mappend\u001b[0m\u001b[0;34m(\u001b[0m\u001b[0mtest_pred\u001b[0m\u001b[0;34m[\u001b[0m\u001b[0mi\u001b[0m\u001b[0;34m]\u001b[0m\u001b[0;34m)\u001b[0m\u001b[0;34m\u001b[0m\u001b[0;34m\u001b[0m\u001b[0m\n\u001b[1;32m     81\u001b[0m             \u001b[0mmale_gt\u001b[0m\u001b[0;34m.\u001b[0m\u001b[0mappend\u001b[0m\u001b[0;34m(\u001b[0m\u001b[0mtest_gt\u001b[0m\u001b[0;34m[\u001b[0m\u001b[0mi\u001b[0m\u001b[0;34m]\u001b[0m\u001b[0;34m)\u001b[0m\u001b[0;34m\u001b[0m\u001b[0;34m\u001b[0m\u001b[0m\n\u001b[0;32m---> 82\u001b[0;31m     \u001b[0mfemale_CM\u001b[0m \u001b[0;34m=\u001b[0m \u001b[0mconfusion_matrix\u001b[0m\u001b[0;34m(\u001b[0m\u001b[0mfemale_gt\u001b[0m\u001b[0;34m,\u001b[0m \u001b[0mfemale_predic\u001b[0m\u001b[0;34m)\u001b[0m\u001b[0;34m\u001b[0m\u001b[0;34m\u001b[0m\u001b[0m\n\u001b[0m\u001b[1;32m     83\u001b[0m     \u001b[0mmale_CM\u001b[0m \u001b[0;34m=\u001b[0m \u001b[0mconfusion_matrix\u001b[0m\u001b[0;34m(\u001b[0m\u001b[0mmale_gt\u001b[0m\u001b[0;34m,\u001b[0m \u001b[0mmale_predic\u001b[0m\u001b[0;34m)\u001b[0m\u001b[0;34m\u001b[0m\u001b[0;34m\u001b[0m\u001b[0m\n\u001b[1;32m     84\u001b[0m     \u001b[0mfemale_dp\u001b[0m \u001b[0;34m=\u001b[0m \u001b[0;34m(\u001b[0m\u001b[0mfemale_CM\u001b[0m\u001b[0;34m[\u001b[0m\u001b[0;36m1\u001b[0m\u001b[0;34m]\u001b[0m\u001b[0;34m[\u001b[0m\u001b[0;36m1\u001b[0m\u001b[0;34m]\u001b[0m\u001b[0;34m+\u001b[0m\u001b[0mfemale_CM\u001b[0m\u001b[0;34m[\u001b[0m\u001b[0;36m0\u001b[0m\u001b[0;34m]\u001b[0m\u001b[0;34m[\u001b[0m\u001b[0;36m1\u001b[0m\u001b[0;34m]\u001b[0m\u001b[0;34m)\u001b[0m\u001b[0;34m/\u001b[0m\u001b[0;34m(\u001b[0m\u001b[0mfemale_CM\u001b[0m\u001b[0;34m[\u001b[0m\u001b[0;36m0\u001b[0m\u001b[0;34m]\u001b[0m\u001b[0;34m[\u001b[0m\u001b[0;36m0\u001b[0m\u001b[0;34m]\u001b[0m\u001b[0;34m+\u001b[0m\u001b[0mfemale_CM\u001b[0m\u001b[0;34m[\u001b[0m\u001b[0;36m0\u001b[0m\u001b[0;34m]\u001b[0m\u001b[0;34m[\u001b[0m\u001b[0;36m1\u001b[0m\u001b[0;34m]\u001b[0m\u001b[0;34m+\u001b[0m\u001b[0mfemale_CM\u001b[0m\u001b[0;34m[\u001b[0m\u001b[0;36m1\u001b[0m\u001b[0;34m]\u001b[0m\u001b[0;34m[\u001b[0m\u001b[0;36m0\u001b[0m\u001b[0;34m]\u001b[0m\u001b[0;34m+\u001b[0m\u001b[0mfemale_CM\u001b[0m\u001b[0;34m[\u001b[0m\u001b[0;36m1\u001b[0m\u001b[0;34m]\u001b[0m\u001b[0;34m[\u001b[0m\u001b[0;36m1\u001b[0m\u001b[0;34m]\u001b[0m\u001b[0;34m)\u001b[0m\u001b[0;34m\u001b[0m\u001b[0;34m\u001b[0m\u001b[0m\n",
      "\u001b[0;32m~/miniconda3/envs/DLcourse/lib/python3.7/site-packages/sklearn/metrics/_classification.py\u001b[0m in \u001b[0;36mconfusion_matrix\u001b[0;34m(y_true, y_pred, labels, sample_weight, normalize)\u001b[0m\n\u001b[1;32m    305\u001b[0m     \u001b[0;34m(\u001b[0m\u001b[0;36m0\u001b[0m\u001b[0;34m,\u001b[0m \u001b[0;36m2\u001b[0m\u001b[0;34m,\u001b[0m \u001b[0;36m1\u001b[0m\u001b[0;34m,\u001b[0m \u001b[0;36m1\u001b[0m\u001b[0;34m)\u001b[0m\u001b[0;34m\u001b[0m\u001b[0;34m\u001b[0m\u001b[0m\n\u001b[1;32m    306\u001b[0m     \"\"\"\n\u001b[0;32m--> 307\u001b[0;31m     \u001b[0my_type\u001b[0m\u001b[0;34m,\u001b[0m \u001b[0my_true\u001b[0m\u001b[0;34m,\u001b[0m \u001b[0my_pred\u001b[0m \u001b[0;34m=\u001b[0m \u001b[0m_check_targets\u001b[0m\u001b[0;34m(\u001b[0m\u001b[0my_true\u001b[0m\u001b[0;34m,\u001b[0m \u001b[0my_pred\u001b[0m\u001b[0;34m)\u001b[0m\u001b[0;34m\u001b[0m\u001b[0;34m\u001b[0m\u001b[0m\n\u001b[0m\u001b[1;32m    308\u001b[0m     \u001b[0;32mif\u001b[0m \u001b[0my_type\u001b[0m \u001b[0;32mnot\u001b[0m \u001b[0;32min\u001b[0m \u001b[0;34m(\u001b[0m\u001b[0;34m\"binary\"\u001b[0m\u001b[0;34m,\u001b[0m \u001b[0;34m\"multiclass\"\u001b[0m\u001b[0;34m)\u001b[0m\u001b[0;34m:\u001b[0m\u001b[0;34m\u001b[0m\u001b[0;34m\u001b[0m\u001b[0m\n\u001b[1;32m    309\u001b[0m         \u001b[0;32mraise\u001b[0m \u001b[0mValueError\u001b[0m\u001b[0;34m(\u001b[0m\u001b[0;34m\"%s is not supported\"\u001b[0m \u001b[0;34m%\u001b[0m \u001b[0my_type\u001b[0m\u001b[0;34m)\u001b[0m\u001b[0;34m\u001b[0m\u001b[0;34m\u001b[0m\u001b[0m\n",
      "\u001b[0;32m~/miniconda3/envs/DLcourse/lib/python3.7/site-packages/sklearn/metrics/_classification.py\u001b[0m in \u001b[0;36m_check_targets\u001b[0;34m(y_true, y_pred)\u001b[0m\n\u001b[1;32m     84\u001b[0m     \u001b[0mcheck_consistent_length\u001b[0m\u001b[0;34m(\u001b[0m\u001b[0my_true\u001b[0m\u001b[0;34m,\u001b[0m \u001b[0my_pred\u001b[0m\u001b[0;34m)\u001b[0m\u001b[0;34m\u001b[0m\u001b[0;34m\u001b[0m\u001b[0m\n\u001b[1;32m     85\u001b[0m     \u001b[0mtype_true\u001b[0m \u001b[0;34m=\u001b[0m \u001b[0mtype_of_target\u001b[0m\u001b[0;34m(\u001b[0m\u001b[0my_true\u001b[0m\u001b[0;34m)\u001b[0m\u001b[0;34m\u001b[0m\u001b[0;34m\u001b[0m\u001b[0m\n\u001b[0;32m---> 86\u001b[0;31m     \u001b[0mtype_pred\u001b[0m \u001b[0;34m=\u001b[0m \u001b[0mtype_of_target\u001b[0m\u001b[0;34m(\u001b[0m\u001b[0my_pred\u001b[0m\u001b[0;34m)\u001b[0m\u001b[0;34m\u001b[0m\u001b[0;34m\u001b[0m\u001b[0m\n\u001b[0m\u001b[1;32m     87\u001b[0m \u001b[0;34m\u001b[0m\u001b[0m\n\u001b[1;32m     88\u001b[0m     \u001b[0my_type\u001b[0m \u001b[0;34m=\u001b[0m \u001b[0;34m{\u001b[0m\u001b[0mtype_true\u001b[0m\u001b[0;34m,\u001b[0m \u001b[0mtype_pred\u001b[0m\u001b[0;34m}\u001b[0m\u001b[0;34m\u001b[0m\u001b[0;34m\u001b[0m\u001b[0m\n",
      "\u001b[0;32m~/miniconda3/envs/DLcourse/lib/python3.7/site-packages/sklearn/utils/multiclass.py\u001b[0m in \u001b[0;36mtype_of_target\u001b[0;34m(y)\u001b[0m\n\u001b[1;32m    322\u001b[0m     \u001b[0;32mif\u001b[0m \u001b[0my\u001b[0m\u001b[0;34m.\u001b[0m\u001b[0mdtype\u001b[0m\u001b[0;34m.\u001b[0m\u001b[0mkind\u001b[0m \u001b[0;34m==\u001b[0m \u001b[0;34m\"f\"\u001b[0m \u001b[0;32mand\u001b[0m \u001b[0mnp\u001b[0m\u001b[0;34m.\u001b[0m\u001b[0many\u001b[0m\u001b[0;34m(\u001b[0m\u001b[0my\u001b[0m \u001b[0;34m!=\u001b[0m \u001b[0my\u001b[0m\u001b[0;34m.\u001b[0m\u001b[0mastype\u001b[0m\u001b[0;34m(\u001b[0m\u001b[0mint\u001b[0m\u001b[0;34m)\u001b[0m\u001b[0;34m)\u001b[0m\u001b[0;34m:\u001b[0m\u001b[0;34m\u001b[0m\u001b[0;34m\u001b[0m\u001b[0m\n\u001b[1;32m    323\u001b[0m         \u001b[0;31m# [.1, .2, 3] or [[.1, .2, 3]] or [[1., .2]] and not [1., 2., 3.]\u001b[0m\u001b[0;34m\u001b[0m\u001b[0;34m\u001b[0m\u001b[0;34m\u001b[0m\u001b[0m\n\u001b[0;32m--> 324\u001b[0;31m         \u001b[0m_assert_all_finite\u001b[0m\u001b[0;34m(\u001b[0m\u001b[0my\u001b[0m\u001b[0;34m)\u001b[0m\u001b[0;34m\u001b[0m\u001b[0;34m\u001b[0m\u001b[0m\n\u001b[0m\u001b[1;32m    325\u001b[0m         \u001b[0;32mreturn\u001b[0m \u001b[0;34m\"continuous\"\u001b[0m \u001b[0;34m+\u001b[0m \u001b[0msuffix\u001b[0m\u001b[0;34m\u001b[0m\u001b[0;34m\u001b[0m\u001b[0m\n\u001b[1;32m    326\u001b[0m \u001b[0;34m\u001b[0m\u001b[0m\n",
      "\u001b[0;32m~/miniconda3/envs/DLcourse/lib/python3.7/site-packages/sklearn/utils/validation.py\u001b[0m in \u001b[0;36m_assert_all_finite\u001b[0;34m(X, allow_nan, msg_dtype)\u001b[0m\n\u001b[1;32m    114\u001b[0m             raise ValueError(\n\u001b[1;32m    115\u001b[0m                 msg_err.format(\n\u001b[0;32m--> 116\u001b[0;31m                     \u001b[0mtype_err\u001b[0m\u001b[0;34m,\u001b[0m \u001b[0mmsg_dtype\u001b[0m \u001b[0;32mif\u001b[0m \u001b[0mmsg_dtype\u001b[0m \u001b[0;32mis\u001b[0m \u001b[0;32mnot\u001b[0m \u001b[0;32mNone\u001b[0m \u001b[0;32melse\u001b[0m \u001b[0mX\u001b[0m\u001b[0;34m.\u001b[0m\u001b[0mdtype\u001b[0m\u001b[0;34m\u001b[0m\u001b[0;34m\u001b[0m\u001b[0m\n\u001b[0m\u001b[1;32m    117\u001b[0m                 )\n\u001b[1;32m    118\u001b[0m             )\n",
      "\u001b[0;31mValueError\u001b[0m: Input contains NaN, infinity or a value too large for dtype('float32')."
     ]
    }
   ],
   "source": [
    "from sklearn.metrics import confusion_matrix\n",
    "from sklearn.metrics import accuracy_score, precision_score\n",
    "\n",
    "\n",
    "\n",
    "model_learner = get_model('celebA').to(device)\n",
    "opt_learner = torch.optim.Adam(model_learner.parameters(), lr = 1e-4)\n",
    "model_adv = get_model('celebA',hidden_layers=2).to(device)\n",
    "opt_adv = torch.optim.Adam(model_adv.parameters(), lr = 1e-4)\n",
    "\n",
    "tr_loss_sum = 0\n",
    "epoch = 30\n",
    "\n",
    "for epoches in range(epoch):\n",
    "    with tqdm(training_data_loader, unit=\"batch\") as tepoch:\n",
    "        for train_input, attributes in tepoch:\n",
    "            # Transfer data to GPU if possible. \n",
    "            train_input = train_input.to(device)\n",
    "            sensitive, train_target = attributes[:,20], attributes[:,2]\n",
    "            \n",
    "            train_target = train_target.float().to(device)\n",
    "            train_target = train_target.unsqueeze(1)\n",
    "\n",
    "            w = model_adv(train_input).sigmoid()\n",
    "            w = 1 + (w.shape[0]*(w/w.sum()))\n",
    "\n",
    "            # training learner on weighted data\n",
    "            tr_out = model_learner(train_input)\n",
    "            tr_loss = F.binary_cross_entropy_with_logits(tr_out, train_target, reduction = 'none')\n",
    "            tr_loss_sum += tr_loss.mean().item()\n",
    "            \n",
    "            tr_loss *= w.detach()\n",
    "            opt_learner.zero_grad()\n",
    "            tr_loss.mean().backward()\n",
    "            opt_learner.step()\n",
    "            \n",
    "            # training adversary to maximize weighted loss\n",
    "            adv_loss = -(tr_loss.detach()*w).mean()\n",
    "            opt_adv.zero_grad()\n",
    "            adv_loss.backward()\n",
    "            opt_adv.step()\n",
    "\n",
    "            tepoch.set_description(f\"epoch %2f \" % epoches)\n",
    "            tepoch.set_postfix(ut_loss = tr_loss.mean().item(),adv=adv_loss.item())\n",
    "\n",
    "    test_pred = []\n",
    "    test_gt = []\n",
    "    sense_gt = []\n",
    "    female_predic = []\n",
    "    female_gt = []\n",
    "    male_predic = []\n",
    "    male_gt = []\n",
    "\n",
    "\n",
    "\n",
    "# Evaluate on test set.\n",
    "    for step, (test_input, attributes) in enumerate(test_data_loader):\n",
    "        sensitive, test_target = attributes[:,20], attributes[:,2]\n",
    "        test_input = test_input.to(device)\n",
    "        test_target = test_target.to(device)\n",
    "\n",
    "        gt = test_target.detach().cpu().numpy()\n",
    "        sen = sensitive.detach().cpu().numpy()\n",
    "        test_gt.extend(gt)\n",
    "        sense_gt.extend(sen)\n",
    "\n",
    "        # Todo: split according to sensitive attribute\n",
    "        # Todo: combine all batch togather\n",
    "\n",
    "        with torch.no_grad():\n",
    "            test_pred_ = model_learner(test_input)\n",
    "            test_pred_ = nn.Sigmoid()(test_pred_)\n",
    "            test_pred.extend(torch.round(test_pred_.squeeze(1)).detach().cpu().numpy())\n",
    "\n",
    "    for i in range(len(sense_gt)):\n",
    "        if sense_gt[i] == 0:\n",
    "            female_predic.append(test_pred[i])\n",
    "            female_gt.append(test_gt[i])\n",
    "        else:\n",
    "            male_predic.append(test_pred[i])\n",
    "            male_gt.append(test_gt[i])\n",
    "    female_CM = confusion_matrix(female_gt, female_predic)    \n",
    "    male_CM = confusion_matrix(male_gt, male_predic) \n",
    "    female_dp = (female_CM[1][1]+female_CM[0][1])/(female_CM[0][0]+female_CM[0][1]+female_CM[1][0]+female_CM[1][1])\n",
    "    male_dp = (male_CM[1][1]+male_CM[0][1])/(male_CM[0][0]+male_CM[0][1]+male_CM[1][0]+male_CM[1][1])\n",
    "    female_TPR = female_CM[1][1]/(female_CM[1][1]+female_CM[1][0])\n",
    "    male_TPR = male_CM[1][1]/(male_CM[1][1]+male_CM[1][0])\n",
    "    female_FPR = female_CM[0][1]/(female_CM[0][1]+female_CM[0][0])\n",
    "    male_FPR = male_CM[0][1]/(male_CM[0][1]+male_CM[0][0])\n",
    "\n",
    "    print('Female TPR', female_TPR)\n",
    "    print('male TPR', male_TPR)\n",
    "    print('DP',abs(female_dp - male_dp))\n",
    "    print('EOP', abs(female_TPR - male_TPR))\n",
    "    print('EoD',0.5*(abs(female_FPR-male_FPR)+ abs(female_TPR-male_TPR)))\n",
    "    print('acc', accuracy_score(test_gt, test_pred))\n",
    "    print('Trade off',accuracy_score(test_gt, test_pred)*(1-0.5*(abs(female_FPR-male_FPR)+ abs(female_TPR-male_TPR))) )"
   ]
  }
 ],
 "metadata": {
  "kernelspec": {
   "display_name": "Python [conda env:DLcourse]",
   "language": "python",
   "name": "conda-env-DLcourse-py"
  },
  "language_info": {
   "codemirror_mode": {
    "name": "ipython",
    "version": 3
   },
   "file_extension": ".py",
   "mimetype": "text/x-python",
   "name": "python",
   "nbconvert_exporter": "python",
   "pygments_lexer": "ipython3",
   "version": "3.7.13"
  }
 },
 "nbformat": 4,
 "nbformat_minor": 5
}
